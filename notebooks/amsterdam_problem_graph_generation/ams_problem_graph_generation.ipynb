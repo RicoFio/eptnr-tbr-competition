{
 "cells": [
  {
   "cell_type": "code",
   "execution_count": 1,
   "outputs": [],
   "source": [
    "from eptnr.graph_generation.problem_graph_generator import ProblemGraphGenerator\n",
    "from pathlib import Path"
   ],
   "metadata": {
    "collapsed": false,
    "pycharm": {
     "name": "#%%\n"
    }
   }
  },
  {
   "cell_type": "markdown",
   "source": [
    "# Graph generation"
   ],
   "metadata": {
    "collapsed": false,
    "pycharm": {
     "name": "#%% md\n"
    }
   }
  },
  {
   "cell_type": "code",
   "execution_count": 2,
   "outputs": [],
   "source": [
    "import geopandas as gpd\n",
    "import os"
   ],
   "metadata": {
    "collapsed": false,
    "pycharm": {
     "name": "#%%\n"
    }
   }
  },
  {
   "cell_type": "code",
   "execution_count": 3,
   "outputs": [],
   "source": [
    "BASE_PATH = Path('../../eptnr_package/eptnr/datasets/amsterdam_10_2022/')"
   ],
   "metadata": {
    "collapsed": false,
    "pycharm": {
     "name": "#%%\n"
    }
   }
  },
  {
   "cell_type": "code",
   "execution_count": 4,
   "outputs": [
    {
     "data": {
      "text/plain": "                 Functie   Verblijfsobject     Functiemix           Adres  \\\n17876  Museum en galerie  0363010012073352  Voorzieningen  Museumstraat 1   \n\n        Gemeente  Aantal_adressen  Oppervlakte  OPPERVLAKTE_CORRECTIE  \\\n17876  Amsterdam                1        38149                      0   \n\n             Gebruiksdoel      Objectsoort FUNCTIE_ID FUNCTIEMIX_ID  \\\n17876  bijeenkomstfunctie  Expositieruimte          G           VZN   \n\n                       geometry              name  \n17876  POINT (4.88539 52.35994)  0363010012073352  ",
      "text/html": "<div>\n<style scoped>\n    .dataframe tbody tr th:only-of-type {\n        vertical-align: middle;\n    }\n\n    .dataframe tbody tr th {\n        vertical-align: top;\n    }\n\n    .dataframe thead th {\n        text-align: right;\n    }\n</style>\n<table border=\"1\" class=\"dataframe\">\n  <thead>\n    <tr style=\"text-align: right;\">\n      <th></th>\n      <th>Functie</th>\n      <th>Verblijfsobject</th>\n      <th>Functiemix</th>\n      <th>Adres</th>\n      <th>Gemeente</th>\n      <th>Aantal_adressen</th>\n      <th>Oppervlakte</th>\n      <th>OPPERVLAKTE_CORRECTIE</th>\n      <th>Gebruiksdoel</th>\n      <th>Objectsoort</th>\n      <th>FUNCTIE_ID</th>\n      <th>FUNCTIEMIX_ID</th>\n      <th>geometry</th>\n      <th>name</th>\n    </tr>\n  </thead>\n  <tbody>\n    <tr>\n      <th>17876</th>\n      <td>Museum en galerie</td>\n      <td>0363010012073352</td>\n      <td>Voorzieningen</td>\n      <td>Museumstraat 1</td>\n      <td>Amsterdam</td>\n      <td>1</td>\n      <td>38149</td>\n      <td>0</td>\n      <td>bijeenkomstfunctie</td>\n      <td>Expositieruimte</td>\n      <td>G</td>\n      <td>VZN</td>\n      <td>POINT (4.88539 52.35994)</td>\n      <td>0363010012073352</td>\n    </tr>\n  </tbody>\n</table>\n</div>"
     },
     "execution_count": 4,
     "metadata": {},
     "output_type": "execute_result"
    }
   ],
   "source": [
    "poi_gdf = gpd.read_file(BASE_PATH / 'non_residential_functions_geojson_latlng_2022.json')\n",
    "poi_gdf = poi_gdf[poi_gdf.Functie == 'Museum en galerie']\n",
    "poi_gdf.geometry = gpd.points_from_xy(poi_gdf.geometry.y, poi_gdf.geometry.x, crs='EPSG:4326')\n",
    "poi_gdf['name'] = poi_gdf['Verblijfsobject']\n",
    "\n",
    "# Keep only the Rijksmuseum https://www.rijksmuseum.nl/ as a Point of Interest\n",
    "poi_gdf = poi_gdf[poi_gdf['Verblijfsobject']=='0363010012073352']\n",
    "poi_gdf"
   ],
   "metadata": {
    "collapsed": false,
    "pycharm": {
     "name": "#%%\n"
    }
   }
  },
  {
   "cell_type": "code",
   "execution_count": 5,
   "outputs": [
    {
     "data": {
      "text/plain": "                       BU_NAAM              res_centroid  \\\n0                  Kop Zeedijk  POINT (4.90009 52.37552)   \n1               Oude Kerk e.o.  POINT (4.89678 52.37375)   \n2              Burgwallen Oost  POINT (4.89875 52.37283)   \n3                     Nes e.o.  POINT (4.89423 52.37094)   \n4              BG-terrein e.o.  POINT (4.89588 52.36999)   \n..                         ...                       ...   \n443              Gein Zuidwest  POINT (4.98511 52.29471)   \n444             Gein Noordoost  POINT (4.99445 52.29913)   \n445              Gein Zuidoost  POINT (4.99021 52.29315)   \n446              Dorp Driemond  POINT (5.01649 52.30562)   \n447  Landelijk gebied Driemond  POINT (5.01314 52.30975)   \n\n                          name  \n0                  Kop Zeedijk  \n1               Oude Kerk e.o.  \n2              Burgwallen Oost  \n3                     Nes e.o.  \n4              BG-terrein e.o.  \n..                         ...  \n443              Gein Zuidwest  \n444             Gein Noordoost  \n445              Gein Zuidoost  \n446              Dorp Driemond  \n447  Landelijk gebied Driemond  \n\n[448 rows x 3 columns]",
      "text/html": "<div>\n<style scoped>\n    .dataframe tbody tr th:only-of-type {\n        vertical-align: middle;\n    }\n\n    .dataframe tbody tr th {\n        vertical-align: top;\n    }\n\n    .dataframe thead th {\n        text-align: right;\n    }\n</style>\n<table border=\"1\" class=\"dataframe\">\n  <thead>\n    <tr style=\"text-align: right;\">\n      <th></th>\n      <th>BU_NAAM</th>\n      <th>res_centroid</th>\n      <th>name</th>\n    </tr>\n  </thead>\n  <tbody>\n    <tr>\n      <th>0</th>\n      <td>Kop Zeedijk</td>\n      <td>POINT (4.90009 52.37552)</td>\n      <td>Kop Zeedijk</td>\n    </tr>\n    <tr>\n      <th>1</th>\n      <td>Oude Kerk e.o.</td>\n      <td>POINT (4.89678 52.37375)</td>\n      <td>Oude Kerk e.o.</td>\n    </tr>\n    <tr>\n      <th>2</th>\n      <td>Burgwallen Oost</td>\n      <td>POINT (4.89875 52.37283)</td>\n      <td>Burgwallen Oost</td>\n    </tr>\n    <tr>\n      <th>3</th>\n      <td>Nes e.o.</td>\n      <td>POINT (4.89423 52.37094)</td>\n      <td>Nes e.o.</td>\n    </tr>\n    <tr>\n      <th>4</th>\n      <td>BG-terrein e.o.</td>\n      <td>POINT (4.89588 52.36999)</td>\n      <td>BG-terrein e.o.</td>\n    </tr>\n    <tr>\n      <th>...</th>\n      <td>...</td>\n      <td>...</td>\n      <td>...</td>\n    </tr>\n    <tr>\n      <th>443</th>\n      <td>Gein Zuidwest</td>\n      <td>POINT (4.98511 52.29471)</td>\n      <td>Gein Zuidwest</td>\n    </tr>\n    <tr>\n      <th>444</th>\n      <td>Gein Noordoost</td>\n      <td>POINT (4.99445 52.29913)</td>\n      <td>Gein Noordoost</td>\n    </tr>\n    <tr>\n      <th>445</th>\n      <td>Gein Zuidoost</td>\n      <td>POINT (4.99021 52.29315)</td>\n      <td>Gein Zuidoost</td>\n    </tr>\n    <tr>\n      <th>446</th>\n      <td>Dorp Driemond</td>\n      <td>POINT (5.01649 52.30562)</td>\n      <td>Dorp Driemond</td>\n    </tr>\n    <tr>\n      <th>447</th>\n      <td>Landelijk gebied Driemond</td>\n      <td>POINT (5.01314 52.30975)</td>\n      <td>Landelijk gebied Driemond</td>\n    </tr>\n  </tbody>\n</table>\n<p>448 rows × 3 columns</p>\n</div>"
     },
     "execution_count": 5,
     "metadata": {},
     "output_type": "execute_result"
    }
   ],
   "source": [
    "census_gdf = gpd.read_parquet(BASE_PATH / 'ams_census_and_neighborhood_data_2021.parquet')\n",
    "census_gdf = gpd.GeoDataFrame(census_gdf[['BU_NAAM', 'res_centroid']], geometry='res_centroid')\n",
    "census_gdf['name'] = census_gdf['BU_NAAM']\n",
    "census_gdf"
   ],
   "metadata": {
    "collapsed": false,
    "pycharm": {
     "name": "#%%\n"
    }
   }
  },
  {
   "cell_type": "code",
   "execution_count": 6,
   "outputs": [],
   "source": [
    "city = \"Amsterdam\"\n",
    "gtfs_zip_file_path = BASE_PATH / 'full_gtfs_amsterdam_14_10_2022.zip'\n",
    "out_dir_path = BASE_PATH / 'resulting_graph/'\n",
    "\n",
    "if not os.path.exists(out_dir_path):\n",
    "    os.mkdir(out_dir_path)\n",
    "\n",
    "day = \"monday\"\n",
    "time_from = \"07:00:00\"\n",
    "time_to = \"09:00:00\"\n",
    "\n",
    "modalities = ['metro']"
   ],
   "metadata": {
    "collapsed": false,
    "pycharm": {
     "name": "#%%\n"
    }
   }
  },
  {
   "cell_type": "code",
   "execution_count": 7,
   "outputs": [],
   "source": [
    "from enum import Enum\n",
    "\n",
    "class GVBCostsCostsPerDistanceUnit(Enum):\n",
    "    WALK = 0\n",
    "    # Vehicle maintenance, Energy, BORI* daily, BORI* replacement, Ready to drive / cleaning, Driver\n",
    "    # Per KM divided by 1000 to get the per meter price\n",
    "    METRO = (2.49+2.05+1.48+2.28+0.36)/1000\n",
    "    # From GTFSNetworkCostsPerDistanceUnit\n",
    "    TRAM = 1\n",
    "    STREETCAR = 1\n",
    "    LIGHT_RAIL = 1\n",
    "    SUBWAY = 1\n",
    "    RAIL = 1\n",
    "    BUS = 1\n",
    "    FERRY = 1\n",
    "    CABLE_TRAM = 1\n",
    "    AERIAL_LIFT = 1\n",
    "    SUSPENDED_CABLE_CAR = 1\n",
    "    GONDOLA_LIFT = 1\n",
    "    AERIAL_TRAMWAY = 1\n",
    "    FUNICULAR = 1\n",
    "    TROLLEYBUS = 1\n",
    "    MONORAIL = 1\n",
    "\n",
    "gvb_costs = GVBCostsCostsPerDistanceUnit"
   ],
   "metadata": {
    "collapsed": false,
    "pycharm": {
     "name": "#%%\n"
    }
   }
  },
  {
   "cell_type": "code",
   "execution_count": 8,
   "outputs": [
    {
     "name": "stderr",
     "output_type": "stream",
     "text": [
      "DEBUG:eptnr.graph_generation.problem_graph_generator:Starting GTFS graph generation on 2022-11-05 23:08:33.776178\n",
      "INFO:urbanaccess:Checking GTFS text file header whitespace... Reading files using encoding: utf-8 set in configuration.\n",
      "INFO:urbanaccess:GTFS text file header whitespace check completed. Took 0.04 seconds\n",
      "INFO:urbanaccess:--------------------------------\n",
      "INFO:urbanaccess:Processing GTFS feed: resulting_graph\n"
     ]
    },
    {
     "name": "stdout",
     "output_type": "stream",
     "text": [
      "Checking GTFS text file header whitespace... Reading files using encoding: utf-8 set in configuration.\n",
      "GTFS text file header whitespace check completed. Took 0.04 seconds\n",
      "--------------------------------\n",
      "Processing GTFS feed: resulting_graph\n"
     ]
    },
    {
     "name": "stderr",
     "output_type": "stream",
     "text": [
      "INFO:urbanaccess:The unique agency id: gvb was generated using the name of the agency in the agency.txt file.\n",
      "INFO:urbanaccess:Unique agency id operation complete. Took 0.02 seconds\n",
      "INFO:urbanaccess:Unique GTFS feed id operation complete. Took 0.00 seconds\n",
      "WARNING:urbanaccess:WARNING: resulting_graph GTFS feed stops: 11 of 1,932 (0.57 percent of total) record(s) are outside the bounding box coordinates\n",
      "INFO:urbanaccess:Records:\n",
      "INFO:urbanaccess:              stop_id               stop_name  stop_code  stop_desc  \\\n",
      "49    stoparea:344470     Velsen, Velsen Zuid        NaN        NaN   \n",
      "51      stoparea:2939  Assendelft, Assendelft        NaN        NaN   \n",
      "196   stoparea:366377     Amsterdam, Westwijk        NaN        NaN   \n",
      "202   stoparea:344472    Velsen, Velsen Noord        NaN        NaN   \n",
      "230     stoparea:2940    Spaarndam, Spaarndam        NaN        NaN   \n",
      "1039          2327658     Amsterdam, Westwijk     7539.0        NaN   \n",
      "1044          1928480    Velsen, Velsen Noord     9918.0        NaN   \n",
      "1175          2409638     Amsterdam, Westwijk     7538.0        NaN   \n",
      "1208          1928479     Velsen, Velsen Zuid     9919.0        NaN   \n",
      "1722            15903  Assendelft, Assendelft     9920.0        NaN   \n",
      "1830            15904    Spaarndam, Spaarndam     9921.0        NaN   \n",
      "\n",
      "       stop_lat  stop_lon  zone_id  stop_url  location_type   parent_station  \\\n",
      "49    52.462601  4.632188      NaN       NaN              1              NaN   \n",
      "51    52.434711  4.725189      NaN       NaN              1              NaN   \n",
      "196   52.274543  4.830747      NaN       NaN              1              NaN   \n",
      "202   52.465956  4.632572      NaN       NaN              1              NaN   \n",
      "230   52.431453  4.724561      NaN       NaN              1              NaN   \n",
      "1039  52.274290  4.830494      NaN       NaN              0  stoparea:366377   \n",
      "1044  52.465956  4.632572      NaN       NaN              0  stoparea:344472   \n",
      "1175  52.274796  4.831000      NaN       NaN              0  stoparea:366377   \n",
      "1208  52.462601  4.632188      NaN       NaN              0  stoparea:344470   \n",
      "1722  52.434711  4.725189      NaN       NaN              0    stoparea:2939   \n",
      "1830  52.431453  4.724561      NaN       NaN              0    stoparea:2940   \n",
      "\n",
      "      stop_timezone  wheelchair_boarding  level_id  area_id unique_agency_id  \\\n",
      "49              NaN                    0       NaN      NaN              gvb   \n",
      "51              NaN                    0       NaN      NaN              gvb   \n",
      "196             NaN                    0       NaN      NaN              gvb   \n",
      "202             NaN                    0       NaN      NaN              gvb   \n",
      "230             NaN                    0       NaN      NaN              gvb   \n",
      "1039            NaN                    0       NaN      NaN              gvb   \n",
      "1044            NaN                    0       NaN      NaN              gvb   \n",
      "1175            NaN                    0       NaN      NaN              gvb   \n",
      "1208            NaN                    0       NaN      NaN              gvb   \n",
      "1722            NaN                    0       NaN      NaN              gvb   \n",
      "1830            NaN                    0       NaN      NaN              gvb   \n",
      "\n",
      "         unique_feed_id  \n",
      "49    resulting_graph_1  \n",
      "51    resulting_graph_1  \n",
      "196   resulting_graph_1  \n",
      "202   resulting_graph_1  \n",
      "230   resulting_graph_1  \n",
      "1039  resulting_graph_1  \n",
      "1044  resulting_graph_1  \n",
      "1175  resulting_graph_1  \n",
      "1208  resulting_graph_1  \n",
      "1722  resulting_graph_1  \n",
      "1830  resulting_graph_1  \n",
      "INFO:urbanaccess:Removed identified stops that are outside of bounding box.\n",
      "INFO:urbanaccess:resulting_graph GTFS feed stops: coordinates are in northeast hemisphere. Latitude = North (90); Longitude = East (90).\n"
     ]
    },
    {
     "name": "stdout",
     "output_type": "stream",
     "text": [
      "The unique agency id: gvb was generated using the name of the agency in the agency.txt file.\n",
      "Unique agency id operation complete. Took 0.02 seconds\n",
      "Unique GTFS feed id operation complete. Took 0.00 seconds\n",
      "WARNING: resulting_graph GTFS feed stops: 11 of 1,932 (0.57 percent of total) record(s) are outside the bounding box coordinates\n",
      "Records:\n",
      "              stop_id               stop_name  stop_code  stop_desc  \\\n",
      "49    stoparea:344470     Velsen, Velsen Zuid        NaN        NaN   \n",
      "51      stoparea:2939  Assendelft, Assendelft        NaN        NaN   \n",
      "196   stoparea:366377     Amsterdam, Westwijk        NaN        NaN   \n",
      "202   stoparea:344472    Velsen, Velsen Noord        NaN        NaN   \n",
      "230     stoparea:2940    Spaarndam, Spaarndam        NaN        NaN   \n",
      "1039          2327658     Amsterdam, Westwijk     7539.0        NaN   \n",
      "1044          1928480    Velsen, Velsen Noord     9918.0        NaN   \n",
      "1175          2409638     Amsterdam, Westwijk     7538.0        NaN   \n",
      "1208          1928479     Velsen, Velsen Zuid     9919.0        NaN   \n",
      "1722            15903  Assendelft, Assendelft     9920.0        NaN   \n",
      "1830            15904    Spaarndam, Spaarndam     9921.0        NaN   \n",
      "\n",
      "       stop_lat  stop_lon  zone_id  stop_url  location_type   parent_station  \\\n",
      "49    52.462601  4.632188      NaN       NaN              1              NaN   \n",
      "51    52.434711  4.725189      NaN       NaN              1              NaN   \n",
      "196   52.274543  4.830747      NaN       NaN              1              NaN   \n",
      "202   52.465956  4.632572      NaN       NaN              1              NaN   \n",
      "230   52.431453  4.724561      NaN       NaN              1              NaN   \n",
      "1039  52.274290  4.830494      NaN       NaN              0  stoparea:366377   \n",
      "1044  52.465956  4.632572      NaN       NaN              0  stoparea:344472   \n",
      "1175  52.274796  4.831000      NaN       NaN              0  stoparea:366377   \n",
      "1208  52.462601  4.632188      NaN       NaN              0  stoparea:344470   \n",
      "1722  52.434711  4.725189      NaN       NaN              0    stoparea:2939   \n",
      "1830  52.431453  4.724561      NaN       NaN              0    stoparea:2940   \n",
      "\n",
      "      stop_timezone  wheelchair_boarding  level_id  area_id unique_agency_id  \\\n",
      "49              NaN                    0       NaN      NaN              gvb   \n",
      "51              NaN                    0       NaN      NaN              gvb   \n",
      "196             NaN                    0       NaN      NaN              gvb   \n",
      "202             NaN                    0       NaN      NaN              gvb   \n",
      "230             NaN                    0       NaN      NaN              gvb   \n",
      "1039            NaN                    0       NaN      NaN              gvb   \n",
      "1044            NaN                    0       NaN      NaN              gvb   \n",
      "1175            NaN                    0       NaN      NaN              gvb   \n",
      "1208            NaN                    0       NaN      NaN              gvb   \n",
      "1722            NaN                    0       NaN      NaN              gvb   \n",
      "1830            NaN                    0       NaN      NaN              gvb   \n",
      "\n",
      "         unique_feed_id  \n",
      "49    resulting_graph_1  \n",
      "51    resulting_graph_1  \n",
      "196   resulting_graph_1  \n",
      "202   resulting_graph_1  \n",
      "230   resulting_graph_1  \n",
      "1039  resulting_graph_1  \n",
      "1044  resulting_graph_1  \n",
      "1175  resulting_graph_1  \n",
      "1208  resulting_graph_1  \n",
      "1722  resulting_graph_1  \n",
      "1830  resulting_graph_1  \n",
      "Removed identified stops that are outside of bounding box.\n",
      "resulting_graph GTFS feed stops: coordinates are in northeast hemisphere. Latitude = North (90); Longitude = East (90).\n"
     ]
    },
    {
     "name": "stderr",
     "output_type": "stream",
     "text": [
      "INFO:urbanaccess:Appended route type to stops\n",
      "INFO:urbanaccess:Appended route type to stop_times\n",
      "INFO:urbanaccess:--------------------------------\n"
     ]
    },
    {
     "name": "stdout",
     "output_type": "stream",
     "text": [
      "Appended route type to stops\n",
      "Appended route type to stop_times\n",
      "--------------------------------\n"
     ]
    },
    {
     "name": "stderr",
     "output_type": "stream",
     "text": [
      "INFO:urbanaccess:Added descriptive definitions to stops, routes, stop_times, and trips tables\n"
     ]
    },
    {
     "name": "stdout",
     "output_type": "stream",
     "text": [
      "Added descriptive definitions to stops, routes, stop_times, and trips tables\n"
     ]
    },
    {
     "name": "stderr",
     "output_type": "stream",
     "text": [
      "INFO:urbanaccess:Successfully converted ['departure_time'] to seconds past midnight and appended new columns to stop_times. Took 1.86 seconds\n",
      "INFO:urbanaccess:1 GTFS feed file(s) successfully read as dataframes:\n",
      "INFO:urbanaccess:     resulting_graph\n",
      "INFO:urbanaccess:     Took 2.84 seconds\n",
      "INFO:urbanaccess:Using calendar to extract service_ids to select trips.\n",
      "INFO:urbanaccess:0 service_ids were extracted from calendar\n",
      "INFO:urbanaccess:0 trip(s) 0.00 percent of 34,865 total trip records were found in calendar for GTFS feed(s): []\n",
      "INFO:urbanaccess:0 trip(s) 0 percent of 34,865 total trip records were found in calendar for GTFS feed: resulting graph\n",
      "INFO:urbanaccess:Using calendar_dates to supplement service_ids extracted from calendar to select trips.\n",
      "INFO:urbanaccess:Found 343 records that matched query: column: unique_feed_id and string: resulting_graph_1 for GTFS feed(s): ['resulting graph']\n",
      "INFO:urbanaccess:An additional 343 service_ids were extracted from calendar_dates. Total service_ids extracted: 343\n",
      "INFO:urbanaccess:34,865 of 34,865 total trips were extracted representing calendar day: monday and calendar_dates search parameters: {'unique_feed_id': 'resulting_graph_1'}. Took 0.07 seconds\n"
     ]
    },
    {
     "name": "stdout",
     "output_type": "stream",
     "text": [
      "Successfully converted ['departure_time'] to seconds past midnight and appended new columns to stop_times. Took 1.86 seconds\n",
      "1 GTFS feed file(s) successfully read as dataframes:\n",
      "     resulting_graph\n",
      "     Took 2.84 seconds\n",
      "Using calendar to extract service_ids to select trips.\n",
      "0 service_ids were extracted from calendar\n",
      "0 trip(s) 0.00 percent of 34,865 total trip records were found in calendar for GTFS feed(s): []\n",
      "0 trip(s) 0 percent of 34,865 total trip records were found in calendar for GTFS feed: resulting graph\n",
      "Using calendar_dates to supplement service_ids extracted from calendar to select trips.\n",
      "Found 343 records that matched query: column: unique_feed_id and string: resulting_graph_1 for GTFS feed(s): ['resulting graph']\n",
      "An additional 343 service_ids were extracted from calendar_dates. Total service_ids extracted: 343\n",
      "34,865 of 34,865 total trips were extracted representing calendar day: monday and calendar_dates search parameters: {'unique_feed_id': 'resulting_graph_1'}. Took 0.07 seconds\n"
     ]
    },
    {
     "name": "stderr",
     "output_type": "stream",
     "text": [
      "INFO:urbanaccess:There are no departure time records missing from trips following the specified schedule. There are no records to interpolate.\n"
     ]
    },
    {
     "name": "stdout",
     "output_type": "stream",
     "text": [
      "There are no departure time records missing from trips following the specified schedule. There are no records to interpolate.\n"
     ]
    },
    {
     "name": "stderr",
     "output_type": "stream",
     "text": [
      "INFO:urbanaccess:Difference between stop times has been successfully calculated. Took 0.06 seconds\n",
      "INFO:urbanaccess:Stop times from 07:00:00 to 09:00:00 successfully selected 48,407 records out of 544,255 total records (8.89 percent of total). Took 0.10 seconds\n",
      "INFO:urbanaccess:Starting transformation process for 3,666 total trips...\n"
     ]
    },
    {
     "name": "stdout",
     "output_type": "stream",
     "text": [
      "Difference between stop times has been successfully calculated. Took 0.06 seconds\n",
      "Stop times from 07:00:00 to 09:00:00 successfully selected 48,407 records out of 544,255 total records (8.89 percent of total). Took 0.10 seconds\n",
      "Starting transformation process for 3,666 total trips...\n"
     ]
    },
    {
     "name": "stderr",
     "output_type": "stream",
     "text": [
      "INFO:urbanaccess:stop time table transformation to Pandana format edge table completed. Took 6.32 seconds\n",
      "INFO:urbanaccess:Time conversion completed: seconds converted to minutes.\n",
      "INFO:urbanaccess:1,211 of 1,921 records selected from stops. Took 0.01 seconds\n",
      "INFO:urbanaccess:stop time table transformation to Pandana format node table completed. Took 0.01 seconds\n"
     ]
    },
    {
     "name": "stdout",
     "output_type": "stream",
     "text": [
      "stop time table transformation to Pandana format edge table completed. Took 6.32 seconds\n",
      "Time conversion completed: seconds converted to minutes.\n",
      "1,211 of 1,921 records selected from stops. Took 0.01 seconds\n",
      "stop time table transformation to Pandana format node table completed. Took 0.01 seconds\n"
     ]
    },
    {
     "name": "stderr",
     "output_type": "stream",
     "text": [
      "INFO:urbanaccess:route type successfully joined to transit edges. Took 0.33 seconds\n",
      "INFO:urbanaccess:route id successfully joined to transit edges. Took 0.04 seconds\n",
      "INFO:urbanaccess:Successfully created transit network. Took 7.48 seconds\n"
     ]
    },
    {
     "name": "stdout",
     "output_type": "stream",
     "text": [
      "route type successfully joined to transit edges. Took 0.33 seconds\n",
      "route id successfully joined to transit edges. Took 0.04 seconds\n",
      "Successfully created transit network. Took 7.48 seconds\n"
     ]
    },
    {
     "name": "stderr",
     "output_type": "stream",
     "text": [
      "100%|██████████| 1442/1442 [03:48<00:00,  6.32it/s] \n",
      "/home/rico/anaconda3/envs/equitable-transport-reduction/lib/python3.9/site-packages/igraph/__init__.py:2988: RuntimeWarning: A non-numeric, non-string, non-boolean graph attribute ignored at src/io/gml.c:677\n",
      "  return writer(f, *args, **kwds)\n",
      "DEBUG:eptnr.graph_generation.problem_graph_generator:Created GTFS graph and stored in ../../eptnr_package/eptnr/datasets/amsterdam_10_2022/resulting_graph/Amsterdam_pt_network_monday_20221012_20221210.gml\n",
      "DEBUG:eptnr.graph_generation.problem_graph_generator:Loading GTFS graph\n",
      "DEBUG:eptnr.graph_generation.problem_graph_generator:Starting OSM graph generation\n",
      "DEBUG:eptnr.graph_generation.problem_graph_generator:Created OSM Graph and stored in ../../eptnr_package/eptnr/datasets/amsterdam_10_2022/resulting_graph/Amsterdam_osm_graph_2022-11-05.gpickle\n",
      "DEBUG:eptnr.graph_generation.problem_graph_generator:Loading OSM graph\n",
      "DEBUG:eptnr.graph_generation.problem_graph_generator:###\n",
      "Starting problem graph generation\n",
      "DEBUG:eptnr.graph_generation.problem_graph_generator:Adding residential centroid vertices to graph\n",
      "DEBUG:eptnr.graph_generation.problem_graph_generator:Adding POI vertices to graph\n",
      "DEBUG:eptnr.graph_generation.problem_graph_generator:Adding edges rc_node->poi_node\n",
      "DEBUG:eptnr.graph_generation.problem_graph_generator:Adding edges rc_node->pt_node\n",
      "DEBUG:eptnr.graph_generation.problem_graph_generator:Adding edges pt_node->poi_node\n",
      "DEBUG:eptnr.graph_generation.problem_graph_generator:Writing final problem graph to ../../eptnr_package/eptnr/datasets/amsterdam_10_2022/resulting_graph/Amsterdam_problem_graph_2022-11-05.gml.\n",
      "This operation took 0:04:07.742028\n"
     ]
    },
    {
     "data": {
      "text/plain": "PosixPath('../../eptnr_package/eptnr/datasets/amsterdam_10_2022/resulting_graph/Amsterdam_problem_graph_2022-11-05.gml')"
     },
     "execution_count": 8,
     "metadata": {},
     "output_type": "execute_result"
    }
   ],
   "source": [
    "graph_generator = ProblemGraphGenerator(city=city, gtfs_zip_file_path=gtfs_zip_file_path,\n",
    "                                        out_dir_path=out_dir_path, day=day,\n",
    "                                        time_from=time_from, time_to=time_to,\n",
    "                                        agencies=['GVB', 'IFF:GVB'],  # , 'IFF:NS', 'IFF:NSI', 'IFF:RNET'\n",
    "                                        poi_gdf=poi_gdf, census_gdf=census_gdf, modalities=modalities,\n",
    "                                        distances_computation_mode='haversine',\n",
    "                                        costs=gvb_costs)\n",
    "\n",
    "graph_generator.generate_problem_graph()"
   ],
   "metadata": {
    "collapsed": false,
    "pycharm": {
     "name": "#%%\n"
    }
   }
  },
  {
   "cell_type": "markdown",
   "source": [
    "# Inspection"
   ],
   "metadata": {
    "collapsed": false,
    "pycharm": {
     "name": "#%% md\n"
    }
   }
  },
  {
   "cell_type": "code",
   "execution_count": 9,
   "outputs": [],
   "source": [
    "import igraph as ig"
   ],
   "metadata": {
    "collapsed": false,
    "pycharm": {
     "name": "#%%\n"
    }
   }
  },
  {
   "cell_type": "code",
   "execution_count": 10,
   "outputs": [],
   "source": [
    "graph: ig.Graph = ig.read('../../eptnr_package/eptnr/datasets/amsterdam_10_2022/resulting_graph/Amsterdam_problem_graph_2022-11-05.gml')"
   ],
   "metadata": {
    "collapsed": false,
    "pycharm": {
     "name": "#%%\n"
    }
   }
  },
  {
   "cell_type": "code",
   "execution_count": 11,
   "outputs": [
    {
     "data": {
      "text/plain": "[igraph.Edge(<igraph.Graph object at 0x7f8fd7914b80>, 0, {'type': 'METRO', 'tt': 2.92, 'weight': 2.91666666666667, 'cost': 10289.812, 'name': '480_gvb_5', 'uniqueagencyid': 'gvb', 'uniquerouteid': '480_gvb', 'color': 'BLACK', 'routetype': 1.0, 'active': 1.0}),\n igraph.Edge(<igraph.Graph object at 0x7f8fd7914b80>, 1, {'type': 'METRO', 'tt': 1.77, 'weight': 1.76666666666667, 'cost': 3815.163, 'name': '480_gvb_2', 'uniqueagencyid': 'gvb', 'uniquerouteid': '480_gvb', 'color': 'BLACK', 'routetype': 1.0, 'active': 1.0}),\n igraph.Edge(<igraph.Graph object at 0x7f8fd7914b80>, 2, {'type': 'METRO', 'tt': 1.5, 'weight': 1.5, 'cost': 3340.66428, 'name': '63198_gvb_3', 'uniqueagencyid': 'gvb', 'uniquerouteid': '63198_gvb', 'color': 'BLACK', 'routetype': 1.0, 'active': 1.0}),\n igraph.Edge(<igraph.Graph object at 0x7f8fd7914b80>, 3, {'type': 'METRO', 'tt': 2.5, 'weight': 2.5, 'cost': 5138.42832, 'name': '480_gvb_6', 'uniqueagencyid': 'gvb', 'uniquerouteid': '480_gvb', 'color': 'BLACK', 'routetype': 1.0, 'active': 1.0}),\n igraph.Edge(<igraph.Graph object at 0x7f8fd7914b80>, 4, {'type': 'METRO', 'tt': 2.5, 'weight': 2.5, 'cost': 307.46464, 'name': '480_gvb_12', 'uniqueagencyid': 'gvb', 'uniquerouteid': '480_gvb', 'color': 'BLACK', 'routetype': 1.0, 'active': 1.0}),\n igraph.Edge(<igraph.Graph object at 0x7f8fd7914b80>, 5, {'type': 'METRO', 'tt': 1.62, 'weight': 1.61666666666667, 'cost': 3924.15776, 'name': '3337_gvb_4', 'uniqueagencyid': 'gvb', 'uniquerouteid': '3337_gvb', 'color': 'BLACK', 'routetype': 1.0, 'active': 1.0}),\n igraph.Edge(<igraph.Graph object at 0x7f8fd7914b80>, 6, {'type': 'METRO', 'tt': 1.48, 'weight': 1.48333333333333, 'cost': 724.9286, 'name': '3337_gvb_1', 'uniqueagencyid': 'gvb', 'uniquerouteid': '3337_gvb', 'color': 'BLACK', 'routetype': 1.0, 'active': 1.0}),\n igraph.Edge(<igraph.Graph object at 0x7f8fd7914b80>, 7, {'type': 'METRO', 'tt': 3.0, 'weight': 3.0, 'cost': 5697.0676, 'name': '480_gvb_1', 'uniqueagencyid': 'gvb', 'uniquerouteid': '480_gvb', 'color': 'BLACK', 'routetype': 1.0, 'active': 1.0}),\n igraph.Edge(<igraph.Graph object at 0x7f8fd7914b80>, 8, {'type': 'METRO', 'tt': 2.25, 'weight': 2.25, 'cost': 5406.54192, 'name': '63198_gvb_4', 'uniqueagencyid': 'gvb', 'uniquerouteid': '63198_gvb', 'color': 'BLACK', 'routetype': 1.0, 'active': 1.0}),\n igraph.Edge(<igraph.Graph object at 0x7f8fd7914b80>, 9, {'type': 'METRO', 'tt': 2.15, 'weight': 2.15, 'cost': 3876.52776, 'name': '480_gvb_1', 'uniqueagencyid': 'gvb', 'uniquerouteid': '480_gvb', 'color': 'BLACK', 'routetype': 1.0, 'active': 1.0}),\n igraph.Edge(<igraph.Graph object at 0x7f8fd7914b80>, 10, {'type': 'METRO', 'tt': 2.08, 'weight': 2.08333333333333, 'cost': 3467.32544, 'name': '480_gvb_7', 'uniqueagencyid': 'gvb', 'uniquerouteid': '480_gvb', 'color': 'BLACK', 'routetype': 1.0, 'active': 1.0}),\n igraph.Edge(<igraph.Graph object at 0x7f8fd7914b80>, 11, {'type': 'METRO', 'tt': 1.58, 'weight': 1.58333333333333, 'cost': 5965.37172, 'name': '59759_gvb_3', 'uniqueagencyid': 'gvb', 'uniquerouteid': '59759_gvb', 'color': 'BLACK', 'routetype': 1.0, 'active': 1.0}),\n igraph.Edge(<igraph.Graph object at 0x7f8fd7914b80>, 12, {'type': 'METRO', 'tt': 1.53, 'weight': 1.53333333333333, 'cost': 3655.9922, 'name': '480_gvb_4', 'uniqueagencyid': 'gvb', 'uniquerouteid': '480_gvb', 'color': 'BLACK', 'routetype': 1.0, 'active': 1.0}),\n igraph.Edge(<igraph.Graph object at 0x7f8fd7914b80>, 13, {'type': 'METRO', 'tt': 1.98, 'weight': 1.98333333333333, 'cost': 5734.652, 'name': '480_gvb_5', 'uniqueagencyid': 'gvb', 'uniquerouteid': '480_gvb', 'color': 'BLACK', 'routetype': 1.0, 'active': 1.0}),\n igraph.Edge(<igraph.Graph object at 0x7f8fd7914b80>, 14, {'type': 'METRO', 'tt': 2.25, 'weight': 2.25, 'cost': 13311.52848, 'name': '59759_gvb_1', 'uniqueagencyid': 'gvb', 'uniquerouteid': '59759_gvb', 'color': 'BLACK', 'routetype': 1.0, 'active': 1.0}),\n igraph.Edge(<igraph.Graph object at 0x7f8fd7914b80>, 15, {'type': 'METRO', 'tt': 2.0, 'weight': 2.0, 'cost': 4728.36, 'name': '480_gvb_5', 'uniqueagencyid': 'gvb', 'uniquerouteid': '480_gvb', 'color': 'BLACK', 'routetype': 1.0, 'active': 1.0}),\n igraph.Edge(<igraph.Graph object at 0x7f8fd7914b80>, 16, {'type': 'METRO', 'tt': 2.2, 'weight': 2.2, 'cost': 9566.45952, 'name': '59759_gvb_1', 'uniqueagencyid': 'gvb', 'uniquerouteid': '59759_gvb', 'color': 'BLACK', 'routetype': 1.0, 'active': 1.0}),\n igraph.Edge(<igraph.Graph object at 0x7f8fd7914b80>, 17, {'type': 'METRO', 'tt': 1.57, 'weight': 1.56666666666667, 'cost': 3751.1656, 'name': '480_gvb_3', 'uniqueagencyid': 'gvb', 'uniquerouteid': '480_gvb', 'color': 'BLACK', 'routetype': 1.0, 'active': 1.0}),\n igraph.Edge(<igraph.Graph object at 0x7f8fd7914b80>, 18, {'type': 'METRO', 'tt': 1.95, 'weight': 1.95, 'cost': 4294.494, 'name': '63198_gvb_2', 'uniqueagencyid': 'gvb', 'uniquerouteid': '63198_gvb', 'color': 'BLACK', 'routetype': 1.0, 'active': 1.0}),\n igraph.Edge(<igraph.Graph object at 0x7f8fd7914b80>, 19, {'type': 'METRO', 'tt': 3.12, 'weight': 3.11666666666667, 'cost': 10106.68764, 'name': '480_gvb_4', 'uniqueagencyid': 'gvb', 'uniquerouteid': '480_gvb', 'color': 'BLACK', 'routetype': 1.0, 'active': 1.0}),\n igraph.Edge(<igraph.Graph object at 0x7f8fd7914b80>, 20, {'type': 'METRO', 'tt': 1.62, 'weight': 1.61666666666667, 'cost': 3616.20816, 'name': '3337_gvb_1', 'uniqueagencyid': 'gvb', 'uniquerouteid': '3337_gvb', 'color': 'BLACK', 'routetype': 1.0, 'active': 1.0}),\n igraph.Edge(<igraph.Graph object at 0x7f8fd7914b80>, 21, {'type': 'METRO', 'tt': 1.58, 'weight': 1.58333333333333, 'cost': 3660.47808, 'name': '480_gvb_6', 'uniqueagencyid': 'gvb', 'uniquerouteid': '480_gvb', 'color': 'BLACK', 'routetype': 1.0, 'active': 1.0}),\n igraph.Edge(<igraph.Graph object at 0x7f8fd7914b80>, 22, {'type': 'METRO', 'tt': 1.65, 'weight': 1.65, 'cost': 3708.59304, 'name': '3337_gvb_4', 'uniqueagencyid': 'gvb', 'uniquerouteid': '3337_gvb', 'color': 'BLACK', 'routetype': 1.0, 'active': 1.0}),\n igraph.Edge(<igraph.Graph object at 0x7f8fd7914b80>, 23, {'type': 'METRO', 'tt': 1.43, 'weight': 1.43333333333333, 'cost': 3156.7432, 'name': '480_gvb_6', 'uniqueagencyid': 'gvb', 'uniquerouteid': '480_gvb', 'color': 'BLACK', 'routetype': 1.0, 'active': 1.0}),\n igraph.Edge(<igraph.Graph object at 0x7f8fd7914b80>, 24, {'type': 'METRO', 'tt': 1.97, 'weight': 1.96666666666667, 'cost': 3503.47228, 'name': '480_gvb_5', 'uniqueagencyid': 'gvb', 'uniquerouteid': '480_gvb', 'color': 'BLACK', 'routetype': 1.0, 'active': 1.0}),\n igraph.Edge(<igraph.Graph object at 0x7f8fd7914b80>, 25, {'type': 'METRO', 'tt': 1.43, 'weight': 1.43333333333333, 'cost': 3140.116, 'name': '480_gvb_7', 'uniqueagencyid': 'gvb', 'uniquerouteid': '480_gvb', 'color': 'BLACK', 'routetype': 1.0, 'active': 1.0}),\n igraph.Edge(<igraph.Graph object at 0x7f8fd7914b80>, 26, {'type': 'METRO', 'tt': 1.67, 'weight': 1.66666666666667, 'cost': 3431.33448, 'name': '63198_gvb_7', 'uniqueagencyid': 'gvb', 'uniquerouteid': '63198_gvb', 'color': 'BLACK', 'routetype': 1.0, 'active': 1.0}),\n igraph.Edge(<igraph.Graph object at 0x7f8fd7914b80>, 27, {'type': 'METRO', 'tt': 1.38, 'weight': 1.38333333333333, 'cost': 2162.0556, 'name': '3337_gvb_5', 'uniqueagencyid': 'gvb', 'uniquerouteid': '3337_gvb', 'color': 'BLACK', 'routetype': 1.0, 'active': 1.0}),\n igraph.Edge(<igraph.Graph object at 0x7f8fd7914b80>, 28, {'type': 'METRO', 'tt': 1.88, 'weight': 1.88333333333333, 'cost': 4737.08928, 'name': '480_gvb_3', 'uniqueagencyid': 'gvb', 'uniquerouteid': '480_gvb', 'color': 'BLACK', 'routetype': 1.0, 'active': 1.0}),\n igraph.Edge(<igraph.Graph object at 0x7f8fd7914b80>, 29, {'type': 'METRO', 'tt': 3.0, 'weight': 3.0, 'cost': 5859.84096, 'name': '3337_gvb_7', 'uniqueagencyid': 'gvb', 'uniquerouteid': '3337_gvb', 'color': 'BLACK', 'routetype': 1.0, 'active': 1.0}),\n igraph.Edge(<igraph.Graph object at 0x7f8fd7914b80>, 30, {'type': 'METRO', 'tt': 2.5, 'weight': 2.5, 'cost': 5979.67804, 'name': '468_gvb_1', 'uniqueagencyid': 'gvb', 'uniquerouteid': '468_gvb', 'color': 'BLACK', 'routetype': 1.0, 'active': 1.0}),\n igraph.Edge(<igraph.Graph object at 0x7f8fd7914b80>, 31, {'type': 'METRO', 'tt': 1.52, 'weight': 1.51666666666667, 'cost': 3817.63976, 'name': '480_gvb_6', 'uniqueagencyid': 'gvb', 'uniquerouteid': '480_gvb', 'color': 'BLACK', 'routetype': 1.0, 'active': 1.0}),\n igraph.Edge(<igraph.Graph object at 0x7f8fd7914b80>, 32, {'type': 'METRO', 'tt': 1.52, 'weight': 1.51666666666667, 'cost': 739.80648, 'name': '480_gvb_19', 'uniqueagencyid': 'gvb', 'uniquerouteid': '480_gvb', 'color': 'BLACK', 'routetype': 1.0, 'active': 1.0}),\n igraph.Edge(<igraph.Graph object at 0x7f8fd7914b80>, 33, {'type': 'METRO', 'tt': 3.0, 'weight': 3.0, 'cost': 6634.11424, 'name': '3337_gvb_6', 'uniqueagencyid': 'gvb', 'uniquerouteid': '3337_gvb', 'color': 'BLACK', 'routetype': 1.0, 'active': 1.0}),\n igraph.Edge(<igraph.Graph object at 0x7f8fd7914b80>, 34, {'type': 'METRO', 'tt': 2.32, 'weight': 2.31666666666667, 'cost': 14130.522, 'name': '59759_gvb_2', 'uniqueagencyid': 'gvb', 'uniquerouteid': '59759_gvb', 'color': 'BLACK', 'routetype': 1.0, 'active': 1.0}),\n igraph.Edge(<igraph.Graph object at 0x7f8fd7914b80>, 35, {'type': 'METRO', 'tt': 2.5, 'weight': 2.5, 'cost': 5298.04944, 'name': '63198_gvb_3', 'uniqueagencyid': 'gvb', 'uniquerouteid': '63198_gvb', 'color': 'BLACK', 'routetype': 1.0, 'active': 1.0}),\n igraph.Edge(<igraph.Graph object at 0x7f8fd7914b80>, 36, {'type': 'METRO', 'tt': 2.5, 'weight': 2.5, 'cost': 4965.86916, 'name': '480_gvb_5', 'uniqueagencyid': 'gvb', 'uniquerouteid': '480_gvb', 'color': 'BLACK', 'routetype': 1.0, 'active': 1.0}),\n igraph.Edge(<igraph.Graph object at 0x7f8fd7914b80>, 37, {'type': 'METRO', 'tt': 2.93, 'weight': 2.93333333333333, 'cost': 10313.03812, 'name': '480_gvb_1', 'uniqueagencyid': 'gvb', 'uniquerouteid': '480_gvb', 'color': 'BLACK', 'routetype': 1.0, 'active': 1.0}),\n igraph.Edge(<igraph.Graph object at 0x7f8fd7914b80>, 38, {'type': 'METRO', 'tt': 1.8, 'weight': 1.8, 'cost': 4824.10496, 'name': '480_gvb_3', 'uniqueagencyid': 'gvb', 'uniquerouteid': '480_gvb', 'color': 'BLACK', 'routetype': 1.0, 'active': 1.0}),\n igraph.Edge(<igraph.Graph object at 0x7f8fd7914b80>, 39, {'type': 'METRO', 'tt': 2.1, 'weight': 2.1, 'cost': 5294.10048, 'name': '480_gvb_2', 'uniqueagencyid': 'gvb', 'uniquerouteid': '480_gvb', 'color': 'BLACK', 'routetype': 1.0, 'active': 1.0}),\n igraph.Edge(<igraph.Graph object at 0x7f8fd7914b80>, 40, {'type': 'METRO', 'tt': 1.5, 'weight': 1.5, 'cost': 3466.63264, 'name': '3337_gvb_5', 'uniqueagencyid': 'gvb', 'uniquerouteid': '3337_gvb', 'color': 'BLACK', 'routetype': 1.0, 'active': 1.0}),\n igraph.Edge(<igraph.Graph object at 0x7f8fd7914b80>, 41, {'type': 'METRO', 'tt': 1.57, 'weight': 1.56666666666667, 'cost': 3466.63264, 'name': '3337_gvb_2', 'uniqueagencyid': 'gvb', 'uniquerouteid': '3337_gvb', 'color': 'BLACK', 'routetype': 1.0, 'active': 1.0}),\n igraph.Edge(<igraph.Graph object at 0x7f8fd7914b80>, 42, {'type': 'METRO', 'tt': 2.88, 'weight': 2.88333333333333, 'cost': 9971.88608, 'name': '480_gvb_2', 'uniqueagencyid': 'gvb', 'uniquerouteid': '480_gvb', 'color': 'BLACK', 'routetype': 1.0, 'active': 1.0}),\n igraph.Edge(<igraph.Graph object at 0x7f8fd7914b80>, 43, {'type': 'METRO', 'tt': 1.5, 'weight': 1.5, 'cost': 2820.80448, 'name': '63198_gvb_2', 'uniqueagencyid': 'gvb', 'uniquerouteid': '63198_gvb', 'color': 'BLACK', 'routetype': 1.0, 'active': 1.0}),\n igraph.Edge(<igraph.Graph object at 0x7f8fd7914b80>, 44, {'type': 'METRO', 'tt': 1.3, 'weight': 1.3, 'cost': 3006.19776, 'name': '480_gvb_6', 'uniqueagencyid': 'gvb', 'uniquerouteid': '480_gvb', 'color': 'BLACK', 'routetype': 1.0, 'active': 1.0}),\n igraph.Edge(<igraph.Graph object at 0x7f8fd7914b80>, 45, {'type': 'METRO', 'tt': 1.82, 'weight': 1.81666666666667, 'cost': 3899.7712, 'name': '480_gvb_4', 'uniqueagencyid': 'gvb', 'uniquerouteid': '480_gvb', 'color': 'BLACK', 'routetype': 1.0, 'active': 1.0}),\n igraph.Edge(<igraph.Graph object at 0x7f8fd7914b80>, 46, {'type': 'METRO', 'tt': 1.61, 'weight': 1.60833333333333, 'cost': 3205.72416, 'name': '480_gvb_4', 'uniqueagencyid': 'gvb', 'uniquerouteid': '480_gvb', 'color': 'BLACK', 'routetype': 1.0, 'active': 1.0}),\n igraph.Edge(<igraph.Graph object at 0x7f8fd7914b80>, 47, {'type': 'METRO', 'tt': 2.25, 'weight': 2.25, 'cost': 6647.86632, 'name': '59759_gvb_1', 'uniqueagencyid': 'gvb', 'uniquerouteid': '59759_gvb', 'color': 'BLACK', 'routetype': 1.0, 'active': 1.0}),\n igraph.Edge(<igraph.Graph object at 0x7f8fd7914b80>, 48, {'type': 'METRO', 'tt': 1.25, 'weight': 1.25, 'cost': 2547.97984, 'name': '480_gvb_6', 'uniqueagencyid': 'gvb', 'uniquerouteid': '480_gvb', 'color': 'BLACK', 'routetype': 1.0, 'active': 1.0}),\n igraph.Edge(<igraph.Graph object at 0x7f8fd7914b80>, 49, {'type': 'METRO', 'tt': 2.03, 'weight': 2.03333333333333, 'cost': 5234.537, 'name': '480_gvb_4', 'uniqueagencyid': 'gvb', 'uniquerouteid': '480_gvb', 'color': 'BLACK', 'routetype': 1.0, 'active': 1.0}),\n igraph.Edge(<igraph.Graph object at 0x7f8fd7914b80>, 50, {'type': 'METRO', 'tt': 3.25, 'weight': 3.25, 'cost': 10166.64948, 'name': '63198_gvb_5', 'uniqueagencyid': 'gvb', 'uniquerouteid': '63198_gvb', 'color': 'BLACK', 'routetype': 1.0, 'active': 1.0}),\n igraph.Edge(<igraph.Graph object at 0x7f8fd7914b80>, 51, {'type': 'METRO', 'tt': 2.12, 'weight': 2.11666666666667, 'cost': 4837.40672, 'name': '480_gvb_3', 'uniqueagencyid': 'gvb', 'uniquerouteid': '480_gvb', 'color': 'BLACK', 'routetype': 1.0, 'active': 1.0}),\n igraph.Edge(<igraph.Graph object at 0x7f8fd7914b80>, 52, {'type': 'METRO', 'tt': 2.0, 'weight': 2.0, 'cost': 4016.54264, 'name': '3337_gvb_2', 'uniqueagencyid': 'gvb', 'uniquerouteid': '3337_gvb', 'color': 'BLACK', 'routetype': 1.0, 'active': 1.0}),\n igraph.Edge(<igraph.Graph object at 0x7f8fd7914b80>, 53, {'type': 'METRO', 'tt': 1.58, 'weight': 1.58333333333333, 'cost': 225.8528, 'name': '480_gvb_1', 'uniqueagencyid': 'gvb', 'uniquerouteid': '480_gvb', 'color': 'BLACK', 'routetype': 1.0, 'active': 1.0}),\n igraph.Edge(<igraph.Graph object at 0x7f8fd7914b80>, 54, {'type': 'METRO', 'tt': 2.38, 'weight': 2.38333333333333, 'cost': 6634.11424, 'name': '3337_gvb_8', 'uniqueagencyid': 'gvb', 'uniquerouteid': '3337_gvb', 'color': 'BLACK', 'routetype': 1.0, 'active': 1.0}),\n igraph.Edge(<igraph.Graph object at 0x7f8fd7914b80>, 55, {'type': 'METRO', 'tt': 1.93, 'weight': 1.93333333333333, 'cost': 3176.28016, 'name': '3337_gvb_3', 'uniqueagencyid': 'gvb', 'uniquerouteid': '3337_gvb', 'color': 'BLACK', 'routetype': 1.0, 'active': 1.0}),\n igraph.Edge(<igraph.Graph object at 0x7f8fd7914b80>, 56, {'type': 'METRO', 'tt': 2.02, 'weight': 2.01666666666667, 'cost': 6142.91904, 'name': '59759_gvb_7', 'uniqueagencyid': 'gvb', 'uniquerouteid': '59759_gvb', 'color': 'BLACK', 'routetype': 1.0, 'active': 1.0}),\n igraph.Edge(<igraph.Graph object at 0x7f8fd7914b80>, 57, {'type': 'METRO', 'tt': 2.02, 'weight': 2.01666666666667, 'cost': 5966.307, 'name': '59759_gvb_3', 'uniqueagencyid': 'gvb', 'uniquerouteid': '59759_gvb', 'color': 'BLACK', 'routetype': 1.0, 'active': 1.0}),\n igraph.Edge(<igraph.Graph object at 0x7f8fd7914b80>, 58, {'type': 'METRO', 'tt': 2.5, 'weight': 2.5, 'cost': 5243.99372, 'name': '480_gvb_2', 'uniqueagencyid': 'gvb', 'uniquerouteid': '480_gvb', 'color': 'BLACK', 'routetype': 1.0, 'active': 1.0}),\n igraph.Edge(<igraph.Graph object at 0x7f8fd7914b80>, 59, {'type': 'METRO', 'tt': 1.35, 'weight': 1.35, 'cost': 3048.70104, 'name': '3337_gvb_3', 'uniqueagencyid': 'gvb', 'uniquerouteid': '3337_gvb', 'color': 'BLACK', 'routetype': 1.0, 'active': 1.0}),\n igraph.Edge(<igraph.Graph object at 0x7f8fd7914b80>, 60, {'type': 'METRO', 'tt': 2.0, 'weight': 2.0, 'cost': 8359.11696, 'name': '59759_gvb_3', 'uniqueagencyid': 'gvb', 'uniquerouteid': '59759_gvb', 'color': 'BLACK', 'routetype': 1.0, 'active': 1.0}),\n igraph.Edge(<igraph.Graph object at 0x7f8fd7914b80>, 61, {'type': 'METRO', 'tt': 2.0, 'weight': 2.0, 'cost': 3255.0342, 'name': '3337_gvb_2', 'uniqueagencyid': 'gvb', 'uniquerouteid': '3337_gvb', 'color': 'BLACK', 'routetype': 1.0, 'active': 1.0}),\n igraph.Edge(<igraph.Graph object at 0x7f8fd7914b80>, 62, {'type': 'METRO', 'tt': 2.5, 'weight': 2.5, 'cost': 5587.18952, 'name': '63198_gvb_1', 'uniqueagencyid': 'gvb', 'uniquerouteid': '63198_gvb', 'color': 'BLACK', 'routetype': 1.0, 'active': 1.0}),\n igraph.Edge(<igraph.Graph object at 0x7f8fd7914b80>, 63, {'type': 'METRO', 'tt': 1.4, 'weight': 1.4, 'cost': 3062.609, 'name': '480_gvb_1', 'uniqueagencyid': 'gvb', 'uniquerouteid': '480_gvb', 'color': 'BLACK', 'routetype': 1.0, 'active': 1.0}),\n igraph.Edge(<igraph.Graph object at 0x7f8fd7914b80>, 64, {'type': 'METRO', 'tt': 2.3, 'weight': 2.3, 'cost': 11627.40096, 'name': '59759_gvb_2', 'uniqueagencyid': 'gvb', 'uniquerouteid': '59759_gvb', 'color': 'BLACK', 'routetype': 1.0, 'active': 1.0}),\n igraph.Edge(<igraph.Graph object at 0x7f8fd7914b80>, 65, {'type': 'METRO', 'tt': 1.5, 'weight': 1.5, 'cost': 2460.92952, 'name': '3337_gvb_1', 'uniqueagencyid': 'gvb', 'uniquerouteid': '3337_gvb', 'color': 'BLACK', 'routetype': 1.0, 'active': 1.0}),\n igraph.Edge(<igraph.Graph object at 0x7f8fd7914b80>, 66, {'type': 'METRO', 'tt': 1.58, 'weight': 1.58333333333333, 'cost': 3889.25796, 'name': '480_gvb_3', 'uniqueagencyid': 'gvb', 'uniquerouteid': '480_gvb', 'color': 'BLACK', 'routetype': 1.0, 'active': 1.0}),\n igraph.Edge(<igraph.Graph object at 0x7f8fd7914b80>, 67, {'type': 'METRO', 'tt': 2.5, 'weight': 2.5, 'cost': 11037.0834, 'name': '59759_gvb_1', 'uniqueagencyid': 'gvb', 'uniquerouteid': '59759_gvb', 'color': 'BLACK', 'routetype': 1.0, 'active': 1.0}),\n igraph.Edge(<igraph.Graph object at 0x7f8fd7914b80>, 68, {'type': 'METRO', 'tt': 1.37, 'weight': 1.36666666666667, 'cost': 3376.967, 'name': '480_gvb_3', 'uniqueagencyid': 'gvb', 'uniquerouteid': '480_gvb', 'color': 'BLACK', 'routetype': 1.0, 'active': 1.0}),\n igraph.Edge(<igraph.Graph object at 0x7f8fd7914b80>, 69, {'type': 'METRO', 'tt': 2.0, 'weight': 2.0, 'cost': 4393.218, 'name': '63198_gvb_5', 'uniqueagencyid': 'gvb', 'uniquerouteid': '63198_gvb', 'color': 'BLACK', 'routetype': 1.0, 'active': 1.0}),\n igraph.Edge(<igraph.Graph object at 0x7f8fd7914b80>, 70, {'type': 'METRO', 'tt': 1.78, 'weight': 1.78333333333333, 'cost': 5023.63136, 'name': '480_gvb_4', 'uniqueagencyid': 'gvb', 'uniquerouteid': '480_gvb', 'color': 'BLACK', 'routetype': 1.0, 'active': 1.0}),\n igraph.Edge(<igraph.Graph object at 0x7f8fd7914b80>, 71, {'type': 'METRO', 'tt': 2.25, 'weight': 2.25, 'cost': 6753.55296, 'name': '59759_gvb_1', 'uniqueagencyid': 'gvb', 'uniquerouteid': '59759_gvb', 'color': 'BLACK', 'routetype': 1.0, 'active': 1.0}),\n igraph.Edge(<igraph.Graph object at 0x7f8fd7914b80>, 72, {'type': 'METRO', 'tt': 2.0, 'weight': 2.0, 'cost': 8371.37952, 'name': '59759_gvb_1', 'uniqueagencyid': 'gvb', 'uniquerouteid': '59759_gvb', 'color': 'BLACK', 'routetype': 1.0, 'active': 1.0}),\n igraph.Edge(<igraph.Graph object at 0x7f8fd7914b80>, 73, {'type': 'METRO', 'tt': 1.37, 'weight': 1.36666666666667, 'cost': 2553.3144, 'name': '480_gvb_1', 'uniqueagencyid': 'gvb', 'uniquerouteid': '480_gvb', 'color': 'BLACK', 'routetype': 1.0, 'active': 1.0}),\n igraph.Edge(<igraph.Graph object at 0x7f8fd7914b80>, 74, {'type': 'METRO', 'tt': 1.62, 'weight': 1.61666666666667, 'cost': 3453.9544, 'name': '480_gvb_2', 'uniqueagencyid': 'gvb', 'uniquerouteid': '480_gvb', 'color': 'BLACK', 'routetype': 1.0, 'active': 1.0}),\n igraph.Edge(<igraph.Graph object at 0x7f8fd7914b80>, 75, {'type': 'METRO', 'tt': 2.0, 'weight': 2.0, 'cost': 1531.98864, 'name': '63198_gvb_1', 'uniqueagencyid': 'gvb', 'uniquerouteid': '63198_gvb', 'color': 'BLACK', 'routetype': 1.0, 'active': 1.0}),\n igraph.Edge(<igraph.Graph object at 0x7f8fd7914b80>, 76, {'type': 'METRO', 'tt': 2.5, 'weight': 2.5, 'cost': 5817.30304, 'name': '468_gvb_7', 'uniqueagencyid': 'gvb', 'uniquerouteid': '468_gvb', 'color': 'BLACK', 'routetype': 1.0, 'active': 1.0}),\n igraph.Edge(<igraph.Graph object at 0x7f8fd7914b80>, 77, {'type': 'METRO', 'tt': 2.0, 'weight': 2.0, 'cost': 5156.64896, 'name': '480_gvb_1', 'uniqueagencyid': 'gvb', 'uniquerouteid': '480_gvb', 'color': 'BLACK', 'routetype': 1.0, 'active': 1.0}),\n igraph.Edge(<igraph.Graph object at 0x7f8fd7914b80>, 78, {'type': 'METRO', 'tt': 2.0, 'weight': 2.0, 'cost': 8241.53148, 'name': '59759_gvb_4', 'uniqueagencyid': 'gvb', 'uniquerouteid': '59759_gvb', 'color': 'BLACK', 'routetype': 1.0, 'active': 1.0}),\n igraph.Edge(<igraph.Graph object at 0x7f8fd7914b80>, 79, {'type': 'METRO', 'tt': 2.08, 'weight': 2.08333333333333, 'cost': 10349.6526, 'name': '59759_gvb_2', 'uniqueagencyid': 'gvb', 'uniquerouteid': '59759_gvb', 'color': 'BLACK', 'routetype': 1.0, 'active': 1.0}),\n igraph.Edge(<igraph.Graph object at 0x7f8fd7914b80>, 80, {'type': 'METRO', 'tt': 1.75, 'weight': 1.75, 'cost': 1567.39072, 'name': '63198_gvb_2', 'uniqueagencyid': 'gvb', 'uniquerouteid': '63198_gvb', 'color': 'BLACK', 'routetype': 1.0, 'active': 1.0}),\n igraph.Edge(<igraph.Graph object at 0x7f8fd7914b80>, 81, {'type': 'METRO', 'tt': 1.75, 'weight': 1.75, 'cost': 1776.72024, 'name': '63198_gvb_9', 'uniqueagencyid': 'gvb', 'uniquerouteid': '63198_gvb', 'color': 'BLACK', 'routetype': 1.0, 'active': 1.0}),\n igraph.Edge(<igraph.Graph object at 0x7f8fd7914b80>, 82, {'type': 'METRO', 'tt': 1.58, 'weight': 1.58333333333333, 'cost': 2848.65504, 'name': '63198_gvb_1', 'uniqueagencyid': 'gvb', 'uniquerouteid': '63198_gvb', 'color': 'BLACK', 'routetype': 1.0, 'active': 1.0}),\n igraph.Edge(<igraph.Graph object at 0x7f8fd7914b80>, 83, {'type': 'METRO', 'tt': 1.92, 'weight': 1.91666666666667, 'cost': 4719.14576, 'name': '480_gvb_2', 'uniqueagencyid': 'gvb', 'uniquerouteid': '480_gvb', 'color': 'BLACK', 'routetype': 1.0, 'active': 1.0}),\n igraph.Edge(<igraph.Graph object at 0x7f8fd7914b80>, 84, {'type': 'METRO', 'tt': 1.62, 'weight': 1.61666666666667, 'cost': 3431.85408, 'name': '480_gvb_5', 'uniqueagencyid': 'gvb', 'uniquerouteid': '480_gvb', 'color': 'BLACK', 'routetype': 1.0, 'active': 1.0}),\n igraph.Edge(<igraph.Graph object at 0x7f8fd7914b80>, 85, {'type': 'METRO', 'tt': 2.0, 'weight': 2.0, 'cost': 3480.8004, 'name': '63198_gvb_3', 'uniqueagencyid': 'gvb', 'uniquerouteid': '63198_gvb', 'color': 'BLACK', 'routetype': 1.0, 'active': 1.0}),\n igraph.Edge(<igraph.Graph object at 0x7f8fd7914b80>, 86, {'type': 'METRO', 'tt': 1.5, 'weight': 1.5, 'cost': 3396.24416, 'name': '3337_gvb_6', 'uniqueagencyid': 'gvb', 'uniquerouteid': '3337_gvb', 'color': 'BLACK', 'routetype': 1.0, 'active': 1.0}),\n igraph.Edge(<igraph.Graph object at 0x7f8fd7914b80>, 87, {'type': 'METRO', 'tt': 1.5, 'weight': 1.5, 'cost': 5905.98144, 'name': '59759_gvb_4', 'uniqueagencyid': 'gvb', 'uniquerouteid': '59759_gvb', 'color': 'BLACK', 'routetype': 1.0, 'active': 1.0}),\n igraph.Edge(<igraph.Graph object at 0x7f8fd7914b80>, 88, {'type': 'METRO', 'tt': 2.0, 'weight': 2.0, 'cost': 8543.67888, 'name': '59759_gvb_2', 'uniqueagencyid': 'gvb', 'uniquerouteid': '59759_gvb', 'color': 'BLACK', 'routetype': 1.0, 'active': 1.0}),\n igraph.Edge(<igraph.Graph object at 0x7f8fd7914b80>, 89, {'type': 'METRO', 'tt': 1.55, 'weight': 1.55, 'cost': 3706.8264, 'name': '63198_gvb_1', 'uniqueagencyid': 'gvb', 'uniquerouteid': '63198_gvb', 'color': 'BLACK', 'routetype': 1.0, 'active': 1.0}),\n igraph.Edge(<igraph.Graph object at 0x7f8fd7914b80>, 90, {'type': 'METRO', 'tt': 2.15, 'weight': 2.15, 'cost': 700.43812, 'name': '480_gvb_1', 'uniqueagencyid': 'gvb', 'uniquerouteid': '480_gvb', 'color': 'BLACK', 'routetype': 1.0, 'active': 1.0}),\n igraph.Edge(<igraph.Graph object at 0x7f8fd7914b80>, 91, {'type': 'METRO', 'tt': 2.0, 'weight': 2.0, 'cost': 3782.79192, 'name': '63198_gvb_6', 'uniqueagencyid': 'gvb', 'uniquerouteid': '63198_gvb', 'color': 'BLACK', 'routetype': 1.0, 'active': 1.0}),\n igraph.Edge(<igraph.Graph object at 0x7f8fd7914b80>, 92, {'type': 'METRO', 'tt': 2.0, 'weight': 2.0, 'cost': 5771.85536, 'name': '3337_gvb_1', 'uniqueagencyid': 'gvb', 'uniquerouteid': '3337_gvb', 'color': 'BLACK', 'routetype': 1.0, 'active': 1.0}),\n igraph.Edge(<igraph.Graph object at 0x7f8fd7914b80>, 93, {'type': 'METRO', 'tt': 2.0, 'weight': 2.0, 'cost': 1720.9152, 'name': '63198_gvb_1', 'uniqueagencyid': 'gvb', 'uniquerouteid': '63198_gvb', 'color': 'BLACK', 'routetype': 1.0, 'active': 1.0}),\n igraph.Edge(<igraph.Graph object at 0x7f8fd7914b80>, 94, {'type': 'METRO', 'tt': 2.0, 'weight': 2.0, 'cost': 3408.21228, 'name': '63198_gvb_4', 'uniqueagencyid': 'gvb', 'uniquerouteid': '63198_gvb', 'color': 'BLACK', 'routetype': 1.0, 'active': 1.0})]"
     },
     "execution_count": 11,
     "metadata": {},
     "output_type": "execute_result"
    }
   ],
   "source": [
    "list(graph.es.select(type='METRO'))"
   ],
   "metadata": {
    "collapsed": false,
    "pycharm": {
     "name": "#%%\n"
    }
   }
  },
  {
   "cell_type": "code",
   "execution_count": 12,
   "outputs": [
    {
     "data": {
      "text/plain": "<igraph.drawing.Plot at 0x7f8fd782c700>",
      "image/svg+xml": "<?xml version=\"1.0\" encoding=\"UTF-8\"?>\n<svg xmlns=\"http://www.w3.org/2000/svg\" xmlns:xlink=\"http://www.w3.org/1999/xlink\" width=\"600pt\" height=\"600pt\" viewBox=\"0 0 600 600\" version=\"1.1\">\n<g id=\"surface2\">\n<rect x=\"0\" y=\"0\" width=\"600\" height=\"600\" style=\"fill:rgb(100%,100%,100%);fill-opacity:1;stroke:none;\"/>\n<path style=\"fill:none;stroke-width:1;stroke-linecap:butt;stroke-linejoin:miter;stroke:rgb(0%,0%,0%);stroke-opacity:1;stroke-miterlimit:10;\" d=\"M 104.035156 245.558594 C 75.484375 241.308594 63.328125 268.011719 43.09375 278.511719 \"/>\n<path style=\" stroke:none;fill-rule:nonzero;fill:rgb(0%,0%,0%);fill-opacity:1;\" d=\"M 30.433594 285.082031 L 40.960938 274.398438 L 45.230469 282.625 L 30.433594 285.082031 \"/>\n<path style=\"fill:none;stroke-width:1;stroke-linecap:butt;stroke-linejoin:miter;stroke:rgb(0%,0%,0%);stroke-opacity:1;stroke-miterlimit:10;\" d=\"M 409.765625 139.0625 C 415.097656 130.136719 410.882812 112.859375 407.144531 114.246094 \"/>\n<path style=\" stroke:none;fill-rule:nonzero;fill:rgb(0%,0%,0%);fill-opacity:1;\" d=\"M 420.519531 109.28125 L 408.757812 118.589844 L 405.53125 109.898438 L 420.519531 109.28125 \"/>\n<path style=\"fill:none;stroke-width:1;stroke-linecap:butt;stroke-linejoin:miter;stroke:rgb(0%,0%,0%);stroke-opacity:1;stroke-miterlimit:10;\" d=\"M 270.007812 395.84375 C 291.34375 397.125 307.320312 367.121094 312.808594 367.578125 \"/>\n<path style=\" stroke:none;fill-rule:nonzero;fill:rgb(0%,0%,0%);fill-opacity:1;\" d=\"M 298.59375 366.394531 L 313.195312 362.960938 L 312.425781 372.199219 L 298.59375 366.394531 \"/>\n<path style=\"fill:none;stroke-width:1;stroke-linecap:butt;stroke-linejoin:miter;stroke:rgb(0%,0%,0%);stroke-opacity:1;stroke-miterlimit:10;\" d=\"M 38.023438 513.644531 C 55.15625 531.480469 78.34375 544.769531 100.546875 535.894531 \"/>\n<path style=\" stroke:none;fill-rule:nonzero;fill:rgb(0%,0%,0%);fill-opacity:1;\" d=\"M 87.300781 541.191406 L 98.828125 531.589844 L 102.269531 540.199219 L 87.300781 541.191406 \"/>\n<path style=\"fill:none;stroke-width:1;stroke-linecap:butt;stroke-linejoin:miter;stroke:rgb(0%,0%,0%);stroke-opacity:1;stroke-miterlimit:10;\" d=\"M 38.023438 513.644531 C 61.089844 509.527344 93.859375 534.425781 98.324219 531.441406 \"/>\n<path style=\" stroke:none;fill-rule:nonzero;fill:rgb(0%,0%,0%);fill-opacity:1;\" d=\"M 86.460938 539.367188 L 95.75 527.585938 L 100.898438 535.296875 L 86.460938 539.367188 \"/>\n<path style=\"fill:none;stroke-width:1;stroke-linecap:butt;stroke-linejoin:miter;stroke:rgb(0%,0%,0%);stroke-opacity:1;stroke-miterlimit:10;\" d=\"M 524.71875 165.71875 C 531.902344 156.066406 528.179688 135.628906 524.613281 136.84375 \"/>\n<path style=\" stroke:none;fill-rule:nonzero;fill:rgb(0%,0%,0%);fill-opacity:1;\" d=\"M 538.113281 132.238281 L 526.109375 141.230469 L 523.117188 132.457031 L 538.113281 132.238281 \"/>\n<path style=\"fill:none;stroke-width:1;stroke-linecap:butt;stroke-linejoin:miter;stroke:rgb(0%,0%,0%);stroke-opacity:1;stroke-miterlimit:10;\" d=\"M 566.242188 99.804688 C 544.019531 100.019531 532.691406 131 523.882812 132.21875 \"/>\n<path style=\" stroke:none;fill-rule:nonzero;fill:rgb(0%,0%,0%);fill-opacity:1;\" d=\"M 538.015625 130.261719 L 524.519531 136.808594 L 523.25 127.628906 L 538.015625 130.261719 \"/>\n<path style=\"fill:none;stroke-width:1;stroke-linecap:butt;stroke-linejoin:miter;stroke:rgb(0%,0%,0%);stroke-opacity:1;stroke-miterlimit:10;\" d=\"M 78.402344 544.746094 C 57.152344 536.898438 43.117188 510.492188 58.304688 501.097656 \"/>\n<path style=\" stroke:none;fill-rule:nonzero;fill:rgb(0%,0%,0%);fill-opacity:1;\" d=\"M 46.171875 508.605469 L 55.863281 497.15625 L 60.742188 505.042969 L 46.171875 508.605469 \"/>\n<path style=\"fill:none;stroke-width:1;stroke-linecap:butt;stroke-linejoin:miter;stroke:rgb(0%,0%,0%);stroke-opacity:1;stroke-miterlimit:10;\" d=\"M 335.453125 253.128906 C 333.738281 240.699219 316.042969 228.191406 314.257812 231.730469 \"/>\n<path style=\" stroke:none;fill-rule:nonzero;fill:rgb(0%,0%,0%);fill-opacity:1;\" d=\"M 320.691406 219 L 318.394531 233.820312 L 310.121094 229.636719 L 320.691406 219 \"/>\n<path style=\"fill:none;stroke-width:1;stroke-linecap:butt;stroke-linejoin:miter;stroke:rgb(0%,0%,0%);stroke-opacity:1;stroke-miterlimit:10;\" d=\"M 580 23.847656 C 554.972656 13.035156 532.296875 19.273438 506.964844 27.933594 \"/>\n<path style=\" stroke:none;fill-rule:nonzero;fill:rgb(0%,0%,0%);fill-opacity:1;\" d=\"M 520.464844 23.320312 L 508.464844 32.320312 L 505.464844 23.546875 L 520.464844 23.320312 \"/>\n<path style=\"fill:none;stroke-width:1;stroke-linecap:butt;stroke-linejoin:miter;stroke:rgb(0%,0%,0%);stroke-opacity:1;stroke-miterlimit:10;\" d=\"M 390.683594 168.796875 C 367.953125 167.667969 353.960938 198.914062 345.421875 199.359375 \"/>\n<path style=\" stroke:none;fill-rule:nonzero;fill:rgb(0%,0%,0%);fill-opacity:1;\" d=\"M 359.667969 198.617188 L 345.660156 203.988281 L 345.179688 194.730469 L 359.667969 198.617188 \"/>\n<path style=\"fill:none;stroke-width:1;stroke-linecap:butt;stroke-linejoin:miter;stroke:rgb(0%,0%,0%);stroke-opacity:1;stroke-miterlimit:10;\" d=\"M 226.324219 323.960938 C 227.398438 335.355469 239.605469 348.914062 244.796875 344.285156 \"/>\n<path style=\" stroke:none;fill-rule:nonzero;fill:rgb(0%,0%,0%);fill-opacity:1;\" d=\"M 234.148438 353.777344 L 241.714844 340.824219 L 247.882812 347.746094 L 234.148438 353.777344 \"/>\n<path style=\"fill:none;stroke-width:1;stroke-linecap:butt;stroke-linejoin:miter;stroke:rgb(0%,0%,0%);stroke-opacity:1;stroke-miterlimit:10;\" d=\"M 23.253906 422.121094 C 40.125 414.066406 44.464844 382.300781 44.046875 382.359375 \"/>\n<path style=\" stroke:none;fill-rule:nonzero;fill:rgb(0%,0%,0%);fill-opacity:1;\" d=\"M 29.917969 384.335938 L 43.402344 377.769531 L 44.6875 386.949219 L 29.917969 384.335938 \"/>\n<path style=\"fill:none;stroke-width:1;stroke-linecap:butt;stroke-linejoin:miter;stroke:rgb(0%,0%,0%);stroke-opacity:1;stroke-miterlimit:10;\" d=\"M 477.53125 31.285156 C 488.558594 37.019531 496.671875 29.265625 506.964844 26.417969 \"/>\n<path style=\" stroke:none;fill-rule:nonzero;fill:rgb(0%,0%,0%);fill-opacity:1;\" d=\"M 520.714844 22.617188 L 508.199219 30.886719 L 505.730469 21.949219 L 520.714844 22.617188 \"/>\n<path style=\"fill:none;stroke-width:1;stroke-linecap:butt;stroke-linejoin:miter;stroke:rgb(0%,0%,0%);stroke-opacity:1;stroke-miterlimit:10;\" d=\"M 324.0625 509.554688 C 324.828125 479.894531 309.160156 447.59375 282.820312 451.5 \"/>\n<path style=\" stroke:none;fill-rule:nonzero;fill:rgb(0%,0%,0%);fill-opacity:1;\" d=\"M 268.710938 453.597656 L 282.140625 446.917969 L 283.503906 456.085938 L 268.710938 453.597656 \"/>\n<path style=\"fill:none;stroke-width:1;stroke-linecap:butt;stroke-linejoin:miter;stroke:rgb(0%,0%,0%);stroke-opacity:1;stroke-miterlimit:10;\" d=\"M 36.097656 464.511719 C 52.441406 470.773438 67.492188 494.066406 58.457031 500.066406 \"/>\n<path style=\" stroke:none;fill-rule:nonzero;fill:rgb(0%,0%,0%);fill-opacity:1;\" d=\"M 46.574219 507.960938 L 55.894531 496.207031 L 61.023438 503.929688 L 46.574219 507.960938 \"/>\n<path style=\"fill:none;stroke-width:1;stroke-linecap:butt;stroke-linejoin:miter;stroke:rgb(0%,0%,0%);stroke-opacity:1;stroke-miterlimit:10;\" d=\"M 226.324219 323.960938 C 248.570312 311.929688 262.109375 271.183594 251.714844 268.828125 \"/>\n<path style=\" stroke:none;fill-rule:nonzero;fill:rgb(0%,0%,0%);fill-opacity:1;\" d=\"M 237.800781 265.671875 L 252.738281 264.308594 L 250.6875 273.347656 L 237.800781 265.671875 \"/>\n<path style=\"fill:none;stroke-width:1;stroke-linecap:butt;stroke-linejoin:miter;stroke:rgb(0%,0%,0%);stroke-opacity:1;stroke-miterlimit:10;\" d=\"M 20 385.726562 C 21.546875 401.953125 32.738281 419.054688 46.335938 414.652344 \"/>\n<path style=\" stroke:none;fill-rule:nonzero;fill:rgb(0%,0%,0%);fill-opacity:1;\" d=\"M 32.761719 419.046875 L 44.90625 410.242188 L 47.761719 419.0625 L 32.761719 419.046875 \"/>\n<path style=\"fill:none;stroke-width:1;stroke-linecap:butt;stroke-linejoin:miter;stroke:rgb(0%,0%,0%);stroke-opacity:1;stroke-miterlimit:10;\" d=\"M 302.8125 328.96875 C 315.394531 329.382812 329.679688 322.429688 327.570312 311.648438 \"/>\n<path style=\" stroke:none;fill-rule:nonzero;fill:rgb(0%,0%,0%);fill-opacity:1;\" d=\"M 324.828125 297.648438 L 332.117188 310.757812 L 323.019531 312.539062 L 324.828125 297.648438 \"/>\n<path style=\"fill:none;stroke-width:1;stroke-linecap:butt;stroke-linejoin:miter;stroke:rgb(0%,0%,0%);stroke-opacity:1;stroke-miterlimit:10;\" d=\"M 222.289062 239.953125 C 253.6875 255.523438 277.03125 244.457031 304.996094 224.632812 \"/>\n<path style=\" stroke:none;fill-rule:nonzero;fill:rgb(0%,0%,0%);fill-opacity:1;\" d=\"M 316.632812 216.382812 L 307.675781 228.414062 L 302.316406 220.851562 L 316.632812 216.382812 \"/>\n<path style=\"fill:none;stroke-width:1;stroke-linecap:butt;stroke-linejoin:miter;stroke:rgb(0%,0%,0%);stroke-opacity:1;stroke-miterlimit:10;\" d=\"M 428.335938 184.066406 C 426.003906 194.398438 430.941406 208.945312 438.734375 207.261719 \"/>\n<path style=\" stroke:none;fill-rule:nonzero;fill:rgb(0%,0%,0%);fill-opacity:1;\" d=\"M 452.679688 204.253906 L 439.714844 211.792969 L 437.757812 202.730469 L 452.679688 204.253906 \"/>\n<path style=\"fill:none;stroke-width:1;stroke-linecap:butt;stroke-linejoin:miter;stroke:rgb(0%,0%,0%);stroke-opacity:1;stroke-miterlimit:10;\" d=\"M 369.734375 198.09375 C 374.382812 191.289062 370.917969 177.4375 368.867188 178.332031 \"/>\n<path style=\" stroke:none;fill-rule:nonzero;fill:rgb(0%,0%,0%);fill-opacity:1;\" d=\"M 381.9375 172.621094 L 370.722656 182.582031 L 367.007812 174.085938 L 381.9375 172.621094 \"/>\n<path style=\"fill:none;stroke-width:1;stroke-linecap:butt;stroke-linejoin:miter;stroke:rgb(0%,0%,0%);stroke-opacity:1;stroke-miterlimit:10;\" d=\"M 500.492188 194.726562 C 477.054688 182.761719 458.589844 202.667969 438.265625 205.507812 \"/>\n<path style=\" stroke:none;fill-rule:nonzero;fill:rgb(0%,0%,0%);fill-opacity:1;\" d=\"M 452.394531 203.535156 L 438.90625 210.097656 L 437.625 200.914062 L 452.394531 203.535156 \"/>\n<path style=\"fill:none;stroke-width:1;stroke-linecap:butt;stroke-linejoin:miter;stroke:rgb(0%,0%,0%);stroke-opacity:1;stroke-miterlimit:10;\" d=\"M 21.945312 289.488281 C 23.460938 302.289062 32.640625 315.625 43.289062 311.878906 \"/>\n<path style=\" stroke:none;fill-rule:nonzero;fill:rgb(0%,0%,0%);fill-opacity:1;\" d=\"M 29.832031 316.617188 L 41.75 307.507812 L 44.828125 316.253906 L 29.832031 316.617188 \"/>\n<path style=\"fill:none;stroke-width:1;stroke-linecap:butt;stroke-linejoin:miter;stroke:rgb(0%,0%,0%);stroke-opacity:1;stroke-miterlimit:10;\" d=\"M 20 385.726562 C 38.929688 378.054688 44.859375 343.789062 45.292969 343.734375 \"/>\n<path style=\" stroke:none;fill-rule:nonzero;fill:rgb(0%,0%,0%);fill-opacity:1;\" d=\"M 31.136719 345.480469 L 44.726562 339.136719 L 45.863281 348.335938 L 31.136719 345.480469 \"/>\n<path style=\"fill:none;stroke-width:1;stroke-linecap:butt;stroke-linejoin:miter;stroke:rgb(0%,0%,0%);stroke-opacity:1;stroke-miterlimit:10;\" d=\"M 20.671875 319.839844 C 37.394531 314.96875 43.542969 286.691406 45.765625 286.402344 \"/>\n<path style=\" stroke:none;fill-rule:nonzero;fill:rgb(0%,0%,0%);fill-opacity:1;\" d=\"M 31.621094 288.234375 L 45.171875 281.804688 L 46.363281 291 L 31.621094 288.234375 \"/>\n<path style=\"fill:none;stroke-width:1;stroke-linecap:butt;stroke-linejoin:miter;stroke:rgb(0%,0%,0%);stroke-opacity:1;stroke-miterlimit:10;\" d=\"M 288.332031 365.542969 C 284.675781 371.277344 289.035156 382.207031 289.574219 381.820312 \"/>\n<path style=\" stroke:none;fill-rule:nonzero;fill:rgb(0%,0%,0%);fill-opacity:1;\" d=\"M 277.976562 390.132812 L 286.871094 378.054688 L 292.273438 385.589844 L 277.976562 390.132812 \"/>\n<path style=\"fill:none;stroke-width:1;stroke-linecap:butt;stroke-linejoin:miter;stroke:rgb(0%,0%,0%);stroke-opacity:1;stroke-miterlimit:10;\" d=\"M 547.925781 128.890625 C 551.820312 120.289062 547.898438 105.308594 543.015625 106.773438 \"/>\n<path style=\" stroke:none;fill-rule:nonzero;fill:rgb(0%,0%,0%);fill-opacity:1;\" d=\"M 556.679688 102.675781 L 544.347656 111.210938 L 541.683594 102.332031 L 556.679688 102.675781 \"/>\n<path style=\"fill:none;stroke-width:1;stroke-linecap:butt;stroke-linejoin:miter;stroke:rgb(0%,0%,0%);stroke-opacity:1;stroke-miterlimit:10;\" d=\"M 168.914062 248.8125 C 178.605469 224.535156 222.503906 213.863281 222.484375 216.15625 \"/>\n<path style=\" stroke:none;fill-rule:nonzero;fill:rgb(0%,0%,0%);fill-opacity:1;\" d=\"M 222.367188 230.421875 L 217.851562 216.117188 L 227.121094 216.195312 L 222.367188 230.421875 \"/>\n<path style=\"fill:none;stroke-width:1;stroke-linecap:butt;stroke-linejoin:miter;stroke:rgb(0%,0%,0%);stroke-opacity:1;stroke-miterlimit:10;\" d=\"M 335.453125 253.128906 C 347.058594 242.316406 343.730469 218.40625 350.335938 213.246094 \"/>\n<path style=\" stroke:none;fill-rule:nonzero;fill:rgb(0%,0%,0%);fill-opacity:1;\" d=\"M 361.578125 204.464844 L 353.1875 216.898438 L 347.480469 209.59375 L 361.578125 204.464844 \"/>\n<path style=\"fill:none;stroke-width:1;stroke-linecap:butt;stroke-linejoin:miter;stroke:rgb(0%,0%,0%);stroke-opacity:1;stroke-miterlimit:10;\" d=\"M 335.453125 253.128906 C 333.003906 236.671875 335.574219 219.1875 349.332031 210.691406 \"/>\n<path style=\" stroke:none;fill-rule:nonzero;fill:rgb(0%,0%,0%);fill-opacity:1;\" d=\"M 361.46875 203.195312 L 351.765625 214.636719 L 346.898438 206.75 L 361.46875 203.195312 \"/>\n<path style=\"fill:none;stroke-width:1;stroke-linecap:butt;stroke-linejoin:miter;stroke:rgb(0%,0%,0%);stroke-opacity:1;stroke-miterlimit:10;\" d=\"M 530.171875 20 C 537.117188 28.40625 547.046875 35.269531 556.929688 31.84375 \"/>\n<path style=\" stroke:none;fill-rule:nonzero;fill:rgb(0%,0%,0%);fill-opacity:1;\" d=\"M 570.410156 27.171875 L 558.449219 36.222656 L 555.410156 27.464844 L 570.410156 27.171875 \"/>\n<path style=\"fill:none;stroke-width:1;stroke-linecap:butt;stroke-linejoin:miter;stroke:rgb(0%,0%,0%);stroke-opacity:1;stroke-miterlimit:10;\" d=\"M 530.171875 20 C 545.425781 15.925781 563.058594 34.359375 559.167969 36.773438 \"/>\n<path style=\" stroke:none;fill-rule:nonzero;fill:rgb(0%,0%,0%);fill-opacity:1;\" d=\"M 571.289062 29.25 L 561.609375 40.710938 L 556.722656 32.832031 L 571.289062 29.25 \"/>\n<path style=\"fill:none;stroke-width:1;stroke-linecap:butt;stroke-linejoin:miter;stroke:rgb(0%,0%,0%);stroke-opacity:1;stroke-miterlimit:10;\" d=\"M 428.335938 184.066406 C 397.292969 168.019531 369.582031 198.09375 345.628906 197.960938 \"/>\n<path style=\" stroke:none;fill-rule:nonzero;fill:rgb(0%,0%,0%);fill-opacity:1;\" d=\"M 359.894531 198.039062 L 345.605469 202.59375 L 345.65625 193.324219 L 359.894531 198.039062 \"/>\n<path style=\"fill:none;stroke-width:1;stroke-linecap:butt;stroke-linejoin:miter;stroke:rgb(0%,0%,0%);stroke-opacity:1;stroke-miterlimit:10;\" d=\"M 259.023438 455.035156 C 275.453125 483.753906 326.207031 503.28125 331.929688 486.515625 \"/>\n<path style=\" stroke:none;fill-rule:nonzero;fill:rgb(0%,0%,0%);fill-opacity:1;\" d=\"M 327.320312 500.019531 L 327.542969 485.019531 L 336.316406 488.015625 L 327.320312 500.019531 \"/>\n<path style=\"fill:none;stroke-width:1;stroke-linecap:butt;stroke-linejoin:miter;stroke:rgb(0%,0%,0%);stroke-opacity:1;stroke-miterlimit:10;\" d=\"M 325.015625 210.441406 C 309.601562 221.175781 304.972656 253.277344 310.871094 253.25 \"/>\n<path style=\" stroke:none;fill-rule:nonzero;fill:rgb(0%,0%,0%);fill-opacity:1;\" d=\"M 325.136719 253.179688 L 310.894531 257.882812 L 310.851562 248.613281 L 325.136719 253.179688 \"/>\n<path style=\"fill:none;stroke-width:1;stroke-linecap:butt;stroke-linejoin:miter;stroke:rgb(0%,0%,0%);stroke-opacity:1;stroke-miterlimit:10;\" d=\"M 325.015625 210.441406 C 332.527344 204.335938 344.308594 211.625 348.230469 209.539062 \"/>\n<path style=\" stroke:none;fill-rule:nonzero;fill:rgb(0%,0%,0%);fill-opacity:1;\" d=\"M 360.824219 202.835938 L 350.410156 213.628906 L 346.054688 205.445312 L 360.824219 202.835938 \"/>\n<path style=\"fill:none;stroke-width:1;stroke-linecap:butt;stroke-linejoin:miter;stroke:rgb(0%,0%,0%);stroke-opacity:1;stroke-miterlimit:10;\" d=\"M 21.945312 289.488281 C 66.222656 303.488281 114.261719 248.679688 127.113281 252.605469 \"/>\n<path style=\" stroke:none;fill-rule:nonzero;fill:rgb(0%,0%,0%);fill-opacity:1;\" d=\"M 113.46875 248.4375 L 128.46875 248.171875 L 125.757812 257.039062 L 113.46875 248.4375 \"/>\n<path style=\"fill:none;stroke-width:1;stroke-linecap:butt;stroke-linejoin:miter;stroke:rgb(0%,0%,0%);stroke-opacity:1;stroke-miterlimit:10;\" d=\"M 477.53125 31.285156 C 447.164062 34.558594 431.636719 80.691406 423.945312 81.300781 \"/>\n<path style=\" stroke:none;fill-rule:nonzero;fill:rgb(0%,0%,0%);fill-opacity:1;\" d=\"M 438.167969 80.175781 L 424.3125 85.921875 L 423.582031 76.679688 L 438.167969 80.175781 \"/>\n<path style=\"fill:none;stroke-width:1;stroke-linecap:butt;stroke-linejoin:miter;stroke:rgb(0%,0%,0%);stroke-opacity:1;stroke-miterlimit:10;\" d=\"M 530.171875 20 C 500.804688 5.636719 478.019531 31.214844 453.105469 34.714844 \"/>\n<path style=\" stroke:none;fill-rule:nonzero;fill:rgb(0%,0%,0%);fill-opacity:1;\" d=\"M 467.234375 32.730469 L 453.753906 39.304688 L 452.460938 30.125 L 467.234375 32.730469 \"/>\n<path style=\"fill:none;stroke-width:1;stroke-linecap:butt;stroke-linejoin:miter;stroke:rgb(0%,0%,0%);stroke-opacity:1;stroke-miterlimit:10;\" d=\"M 462.625 202.105469 C 446.402344 183.78125 428.351562 184.0625 405.085938 190.285156 \"/>\n<path style=\" stroke:none;fill-rule:nonzero;fill:rgb(0%,0%,0%);fill-opacity:1;\" d=\"M 418.867188 186.597656 L 406.285156 194.761719 L 403.886719 185.808594 L 418.867188 186.597656 \"/>\n<path style=\"fill:none;stroke-width:1;stroke-linecap:butt;stroke-linejoin:miter;stroke:rgb(0%,0%,0%);stroke-opacity:1;stroke-miterlimit:10;\" d=\"M 462.625 202.105469 C 467.671875 205.605469 471.910156 203.164062 477.351562 201.558594 \"/>\n<path style=\" stroke:none;fill-rule:nonzero;fill:rgb(0%,0%,0%);fill-opacity:1;\" d=\"M 491.03125 197.519531 L 478.664062 206.003906 L 476.039062 197.113281 L 491.03125 197.519531 \"/>\n<path style=\"fill:none;stroke-width:1;stroke-linecap:butt;stroke-linejoin:miter;stroke:rgb(0%,0%,0%);stroke-opacity:1;stroke-miterlimit:10;\" d=\"M 325.015625 210.441406 C 292.949219 191.617188 257.699219 190.855469 236.339844 220.472656 \"/>\n<path style=\" stroke:none;fill-rule:nonzero;fill:rgb(0%,0%,0%);fill-opacity:1;\" d=\"M 227.992188 232.042969 L 232.578125 217.761719 L 240.097656 223.183594 L 227.992188 232.042969 \"/>\n<path style=\"fill:none;stroke-width:1;stroke-linecap:butt;stroke-linejoin:miter;stroke:rgb(0%,0%,0%);stroke-opacity:1;stroke-miterlimit:10;\" d=\"M 263.6875 422 C 262.882812 402.066406 274.519531 392.972656 290.851562 382.5625 \"/>\n<path style=\" stroke:none;fill-rule:nonzero;fill:rgb(0%,0%,0%);fill-opacity:1;\" d=\"M 278.820312 390.230469 L 288.359375 378.65625 L 293.339844 386.472656 L 278.820312 390.230469 \"/>\n<path style=\"fill:none;stroke-width:1;stroke-linecap:butt;stroke-linejoin:miter;stroke:rgb(0%,0%,0%);stroke-opacity:1;stroke-miterlimit:10;\" d=\"M 409.765625 139.0625 C 387.421875 138.855469 374.777344 170.144531 366.566406 170.84375 \"/>\n<path style=\" stroke:none;fill-rule:nonzero;fill:rgb(0%,0%,0%);fill-opacity:1;\" d=\"M 380.78125 169.636719 L 366.957031 175.460938 L 366.175781 166.222656 L 380.78125 169.636719 \"/>\n<path style=\"fill:none;stroke-width:1;stroke-linecap:butt;stroke-linejoin:miter;stroke:rgb(0%,0%,0%);stroke-opacity:1;stroke-miterlimit:10;\" d=\"M 23.253906 422.121094 C 26.542969 442.75 41.292969 462.824219 59.273438 456.992188 \"/>\n<path style=\" stroke:none;fill-rule:nonzero;fill:rgb(0%,0%,0%);fill-opacity:1;\" d=\"M 45.703125 461.394531 L 57.84375 452.582031 L 60.703125 461.398438 L 45.703125 461.394531 \"/>\n<path style=\"fill:none;stroke-width:1;stroke-linecap:butt;stroke-linejoin:miter;stroke:rgb(0%,0%,0%);stroke-opacity:1;stroke-miterlimit:10;\" d=\"M 448.027344 79.394531 C 426.523438 78.628906 414.878906 107.699219 405.632812 108.894531 \"/>\n<path style=\" stroke:none;fill-rule:nonzero;fill:rgb(0%,0%,0%);fill-opacity:1;\" d=\"M 419.78125 107.066406 L 406.226562 113.492188 L 405.039062 104.300781 L 419.78125 107.066406 \"/>\n<path style=\"fill:none;stroke-width:1;stroke-linecap:butt;stroke-linejoin:miter;stroke:rgb(0%,0%,0%);stroke-opacity:1;stroke-miterlimit:10;\" d=\"M 376.5625 580 C 353.089844 558.285156 331.753906 506.148438 346.28125 499.710938 \"/>\n<path style=\" stroke:none;fill-rule:nonzero;fill:rgb(0%,0%,0%);fill-opacity:1;\" d=\"M 333.238281 505.488281 L 344.40625 495.472656 L 348.160156 503.949219 L 333.238281 505.488281 \"/>\n<path style=\"fill:none;stroke-width:1;stroke-linecap:butt;stroke-linejoin:miter;stroke:rgb(0%,0%,0%);stroke-opacity:1;stroke-miterlimit:10;\" d=\"M 20.867188 346.75 C 17.765625 328.253906 25.746094 316.664062 41.546875 306.773438 \"/>\n<path style=\" stroke:none;fill-rule:nonzero;fill:rgb(0%,0%,0%);fill-opacity:1;\" d=\"M 29.457031 314.339844 L 39.089844 302.84375 L 44.007812 310.703125 L 29.457031 314.339844 \"/>\n<path style=\"fill:none;stroke-width:1;stroke-linecap:butt;stroke-linejoin:miter;stroke:rgb(0%,0%,0%);stroke-opacity:1;stroke-miterlimit:10;\" d=\"M 448.027344 79.394531 C 460.28125 67.863281 456.808594 38.925781 454.949219 39.609375 \"/>\n<path style=\" stroke:none;fill-rule:nonzero;fill:rgb(0%,0%,0%);fill-opacity:1;\" d=\"M 468.332031 34.675781 L 456.550781 43.957031 L 453.34375 35.261719 L 468.332031 34.675781 \"/>\n<path style=\"fill:none;stroke-width:1;stroke-linecap:butt;stroke-linejoin:miter;stroke:rgb(0%,0%,0%);stroke-opacity:1;stroke-miterlimit:10;\" d=\"M 325.015625 210.441406 L 245.609375 233.253906 \"/>\n<path style=\" stroke:none;fill-rule:nonzero;fill:rgb(0%,0%,0%);fill-opacity:1;\" d=\"M 231.898438 237.195312 L 244.328125 228.800781 L 246.890625 237.710938 L 231.898438 237.195312 \"/>\n<path style=\"fill:none;stroke-width:1;stroke-linecap:butt;stroke-linejoin:miter;stroke:rgb(0%,0%,0%);stroke-opacity:1;stroke-miterlimit:10;\" d=\"M 222.289062 239.953125 C 212.101562 247.773438 198.027344 237.824219 191.46875 240.300781 \"/>\n<path style=\" stroke:none;fill-rule:nonzero;fill:rgb(0%,0%,0%);fill-opacity:1;\" d=\"M 178.121094 245.339844 L 189.832031 235.964844 L 193.105469 244.636719 L 178.121094 245.339844 \"/>\n<path style=\"fill:none;stroke-width:1;stroke-linecap:butt;stroke-linejoin:miter;stroke:rgb(0%,0%,0%);stroke-opacity:1;stroke-miterlimit:10;\" d=\"M 547.925781 128.890625 C 522.15625 130.109375 508.835938 167.417969 500.207031 168.34375 \"/>\n<path style=\" stroke:none;fill-rule:nonzero;fill:rgb(0%,0%,0%);fill-opacity:1;\" d=\"M 514.390625 166.824219 L 500.699219 172.949219 L 499.710938 163.734375 L 514.390625 166.824219 \"/>\n<path style=\"fill:none;stroke-width:1;stroke-linecap:butt;stroke-linejoin:miter;stroke:rgb(0%,0%,0%);stroke-opacity:1;stroke-miterlimit:10;\" d=\"M 369.734375 198.09375 L 376.566406 188.535156 \"/>\n<path style=\" stroke:none;fill-rule:nonzero;fill:rgb(0%,0%,0%);fill-opacity:1;\" d=\"M 384.863281 176.929688 L 380.335938 191.230469 L 372.796875 185.839844 L 384.863281 176.929688 \"/>\n<path style=\"fill:none;stroke-width:1;stroke-linecap:butt;stroke-linejoin:miter;stroke:rgb(0%,0%,0%);stroke-opacity:1;stroke-miterlimit:10;\" d=\"M 369.734375 198.09375 C 383.167969 205.210938 392.914062 197.175781 405.78125 192.410156 \"/>\n<path style=\" stroke:none;fill-rule:nonzero;fill:rgb(0%,0%,0%);fill-opacity:1;\" d=\"M 419.160156 187.460938 L 407.390625 196.757812 L 404.171875 188.0625 L 419.160156 187.460938 \"/>\n<path style=\"fill:none;stroke-width:1;stroke-linecap:butt;stroke-linejoin:miter;stroke:rgb(0%,0%,0%);stroke-opacity:1;stroke-miterlimit:10;\" d=\"M 500.492188 194.726562 C 497.605469 188.550781 498.136719 182.265625 503.847656 178.710938 \"/>\n<path style=\" stroke:none;fill-rule:nonzero;fill:rgb(0%,0%,0%);fill-opacity:1;\" d=\"M 515.957031 171.171875 L 506.296875 182.644531 L 501.398438 174.773438 L 515.957031 171.171875 \"/>\n<path style=\"fill:none;stroke-width:1;stroke-linecap:butt;stroke-linejoin:miter;stroke:rgb(0%,0%,0%);stroke-opacity:1;stroke-miterlimit:10;\" d=\"M 324.0625 509.554688 C 356.273438 515.835938 401.210938 556.140625 393.835938 563.28125 \"/>\n<path style=\" stroke:none;fill-rule:nonzero;fill:rgb(0%,0%,0%);fill-opacity:1;\" d=\"M 383.585938 573.203125 L 390.609375 559.949219 L 397.058594 566.613281 L 383.585938 573.203125 \"/>\n<path style=\"fill:none;stroke-width:1;stroke-linecap:butt;stroke-linejoin:miter;stroke:rgb(0%,0%,0%);stroke-opacity:1;stroke-miterlimit:10;\" d=\"M 324.0625 509.554688 C 322.066406 539.972656 360.78125 545.101562 366.695312 558.179688 \"/>\n<path style=\" stroke:none;fill-rule:nonzero;fill:rgb(0%,0%,0%);fill-opacity:1;\" d=\"M 372.574219 571.175781 L 362.472656 560.085938 L 370.917969 556.269531 L 372.574219 571.175781 \"/>\n<path style=\"fill:none;stroke-width:1;stroke-linecap:butt;stroke-linejoin:miter;stroke:rgb(0%,0%,0%);stroke-opacity:1;stroke-miterlimit:10;\" d=\"M 104.035156 245.558594 C 118.152344 258.351562 132.871094 250.632812 149.566406 249.789062 \"/>\n<path style=\" stroke:none;fill-rule:nonzero;fill:rgb(0%,0%,0%);fill-opacity:1;\" d=\"M 163.8125 249.070312 L 149.796875 254.417969 L 149.332031 245.160156 L 163.8125 249.070312 \"/>\n<path style=\"fill:none;stroke-width:1;stroke-linecap:butt;stroke-linejoin:miter;stroke:rgb(0%,0%,0%);stroke-opacity:1;stroke-miterlimit:10;\" d=\"M 524.71875 165.71875 C 520.558594 190.828125 499.523438 195.371094 480.574219 207.9375 \"/>\n<path style=\" stroke:none;fill-rule:nonzero;fill:rgb(0%,0%,0%);fill-opacity:1;\" d=\"M 492.464844 200.050781 L 483.136719 211.800781 L 478.011719 204.074219 L 492.464844 200.050781 \"/>\n<path style=\"fill:none;stroke-width:1;stroke-linecap:butt;stroke-linejoin:miter;stroke:rgb(0%,0%,0%);stroke-opacity:1;stroke-miterlimit:10;\" d=\"M 231.269531 407.972656 C 249.675781 396.808594 255.539062 359.894531 250.535156 360.027344 \"/>\n<path style=\" stroke:none;fill-rule:nonzero;fill:rgb(0%,0%,0%);fill-opacity:1;\" d=\"M 236.273438 360.410156 L 250.410156 355.394531 L 250.660156 364.664062 L 236.273438 360.410156 \"/>\n<path style=\"fill:none;stroke-width:1;stroke-linecap:butt;stroke-linejoin:miter;stroke:rgb(0%,0%,0%);stroke-opacity:1;stroke-miterlimit:10;\" d=\"M 335.453125 253.128906 C 317.367188 258.300781 304.519531 287.40625 298.253906 287.246094 \"/>\n<path style=\" stroke:none;fill-rule:nonzero;fill:rgb(0%,0%,0%);fill-opacity:1;\" d=\"M 312.515625 287.605469 L 298.136719 291.878906 L 298.371094 282.613281 L 312.515625 287.605469 \"/>\n<path style=\"fill:none;stroke-width:1;stroke-linecap:butt;stroke-linejoin:miter;stroke:rgb(0%,0%,0%);stroke-opacity:1;stroke-miterlimit:10;\" d=\"M 78.402344 544.746094 C 83.75 528.84375 78.289062 512.371094 62.566406 512.867188 \"/>\n<path style=\" stroke:none;fill-rule:nonzero;fill:rgb(0%,0%,0%);fill-opacity:1;\" d=\"M 48.308594 513.320312 L 62.421875 508.234375 L 62.714844 517.5 L 48.308594 513.320312 \"/>\n<path style=\"fill:none;stroke-width:1;stroke-linecap:butt;stroke-linejoin:miter;stroke:rgb(0%,0%,0%);stroke-opacity:1;stroke-miterlimit:10;\" d=\"M 390.683594 168.796875 C 394.734375 160.941406 390.652344 146.511719 387.15625 147.878906 \"/>\n<path style=\" stroke:none;fill-rule:nonzero;fill:rgb(0%,0%,0%);fill-opacity:1;\" d=\"M 400.445312 142.695312 L 388.839844 152.195312 L 385.472656 143.558594 L 400.445312 142.695312 \"/>\n<path style=\"fill:none;stroke-width:1;stroke-linecap:butt;stroke-linejoin:miter;stroke:rgb(0%,0%,0%);stroke-opacity:1;stroke-miterlimit:10;\" d=\"M 227.960938 263.4375 C 210.15625 264.996094 192.035156 240.609375 191.527344 240.789062 \"/>\n<path style=\" stroke:none;fill-rule:nonzero;fill:rgb(0%,0%,0%);fill-opacity:1;\" d=\"M 178.085938 245.558594 L 189.976562 236.417969 L 193.078125 245.15625 L 178.085938 245.558594 \"/>\n<path style=\"fill:none;stroke-width:1;stroke-linecap:butt;stroke-linejoin:miter;stroke:rgb(0%,0%,0%);stroke-opacity:1;stroke-miterlimit:10;\" d=\"M 566.242188 99.804688 L 560.855469 108.355469 \"/>\n<path style=\" stroke:none;fill-rule:nonzero;fill:rgb(0%,0%,0%);fill-opacity:1;\" d=\"M 553.253906 120.429688 L 556.933594 105.886719 L 564.777344 110.828125 L 553.253906 120.429688 \"/>\n<path style=\"fill:none;stroke-width:1;stroke-linecap:butt;stroke-linejoin:miter;stroke:rgb(0%,0%,0%);stroke-opacity:1;stroke-miterlimit:10;\" d=\"M 36.097656 464.511719 C 51.394531 452.085938 52.507812 417.917969 47.578125 418.628906 \"/>\n<path style=\" stroke:none;fill-rule:nonzero;fill:rgb(0%,0%,0%);fill-opacity:1;\" d=\"M 33.457031 420.65625 L 46.917969 414.039062 L 48.234375 423.214844 L 33.457031 420.65625 \"/>\n<path style=\"fill:none;stroke-width:1;stroke-linecap:butt;stroke-linejoin:miter;stroke:rgb(0%,0%,0%);stroke-opacity:1;stroke-miterlimit:10;\" d=\"M 168.914062 248.8125 C 186.140625 230.878906 227.738281 227.535156 227.8125 239.1875 \"/>\n<path style=\" stroke:none;fill-rule:nonzero;fill:rgb(0%,0%,0%);fill-opacity:1;\" d=\"M 227.898438 253.453125 L 223.175781 239.214844 L 232.445312 239.15625 L 227.898438 253.453125 \"/>\n<path style=\"fill:none;stroke-width:1;stroke-linecap:butt;stroke-linejoin:miter;stroke:rgb(0%,0%,0%);stroke-opacity:1;stroke-miterlimit:10;\" d=\"M 430.09375 105.730469 C 433.101562 98.125 429.320312 85.382812 424.921875 86.792969 \"/>\n<path style=\" stroke:none;fill-rule:nonzero;fill:rgb(0%,0%,0%);fill-opacity:1;\" d=\"M 438.507812 82.441406 L 426.332031 91.207031 L 423.507812 82.375 L 438.507812 82.441406 \"/>\n<path style=\"fill:none;stroke-width:1;stroke-linecap:butt;stroke-linejoin:miter;stroke:rgb(0%,0%,0%);stroke-opacity:1;stroke-miterlimit:10;\" d=\"M 322.910156 287.871094 C 308.8125 286.953125 290.796875 296.273438 294.519531 306.40625 \"/>\n<path style=\" stroke:none;fill-rule:nonzero;fill:rgb(0%,0%,0%);fill-opacity:1;\" d=\"M 299.441406 319.796875 L 290.171875 308.003906 L 298.871094 304.804688 L 299.441406 319.796875 \"/>\n<path style=\"fill:none;stroke-width:1;stroke-linecap:butt;stroke-linejoin:miter;stroke:rgb(0%,0%,0%);stroke-opacity:1;stroke-miterlimit:10;\" d=\"M 168.914062 248.8125 C 157.605469 234.476562 143.75 231.464844 126.558594 237.566406 \"/>\n<path style=\" stroke:none;fill-rule:nonzero;fill:rgb(0%,0%,0%);fill-opacity:1;\" d=\"M 113.113281 242.335938 L 125.007812 233.199219 L 128.109375 241.933594 L 113.113281 242.335938 \"/>\n<path style=\"fill:none;stroke-width:1;stroke-linecap:butt;stroke-linejoin:miter;stroke:rgb(0%,0%,0%);stroke-opacity:1;stroke-miterlimit:10;\" d=\"M 376.5625 580 C 390.457031 547.488281 381.582031 511.515625 348.636719 510.390625 \"/>\n<path style=\" stroke:none;fill-rule:nonzero;fill:rgb(0%,0%,0%);fill-opacity:1;\" d=\"M 334.378906 509.90625 L 348.792969 505.757812 L 348.480469 515.023438 L 334.378906 509.90625 \"/>\n<path style=\"fill:none;stroke-width:1;stroke-linecap:butt;stroke-linejoin:miter;stroke:rgb(0%,0%,0%);stroke-opacity:1;stroke-miterlimit:10;\" d=\"M 231.269531 407.972656 C 254.832031 406.757812 284.421875 434.617188 278.253906 439.574219 \"/>\n<path style=\" stroke:none;fill-rule:nonzero;fill:rgb(0%,0%,0%);fill-opacity:1;\" d=\"M 267.136719 448.511719 L 275.351562 435.960938 L 281.160156 443.1875 L 267.136719 448.511719 \"/>\n<path style=\"fill:none;stroke-width:1;stroke-linecap:butt;stroke-linejoin:miter;stroke:rgb(0%,0%,0%);stroke-opacity:1;stroke-miterlimit:10;\" d=\"M 20.671875 319.839844 C 30.890625 319.199219 43.21875 332.003906 41.214844 333.324219 \"/>\n<path style=\" stroke:none;fill-rule:nonzero;fill:rgb(0%,0%,0%);fill-opacity:1;\" d=\"M 29.304688 341.179688 L 38.660156 329.457031 L 43.765625 337.195312 L 29.304688 341.179688 \"/>\n<path style=\"fill:none;stroke-width:1;stroke-linecap:butt;stroke-linejoin:miter;stroke:rgb(0%,0%,0%);stroke-opacity:1;stroke-miterlimit:10;\" d=\"M 20.867188 346.75 C 20.476562 362.558594 30.980469 381.859375 42.882812 377.667969 \"/>\n<path style=\" stroke:none;fill-rule:nonzero;fill:rgb(0%,0%,0%);fill-opacity:1;\" d=\"M 29.425781 382.40625 L 41.34375 373.296875 L 44.421875 382.039062 L 29.425781 382.40625 \"/>\n<path style=\"fill:none;stroke-width:1;stroke-linecap:butt;stroke-linejoin:miter;stroke:rgb(0%,0%,0%);stroke-opacity:1;stroke-miterlimit:10;\" d=\"M 259.023438 455.035156 C 274.679688 446.9375 280.402344 418.261719 286.882812 416.808594 \"/>\n<path style=\" stroke:none;fill-rule:nonzero;fill:rgb(0%,0%,0%);fill-opacity:1;\" d=\"M 272.960938 419.925781 L 285.871094 412.285156 L 287.894531 421.332031 L 272.960938 419.925781 \"/>\n<path style=\"fill:none;stroke-width:1;stroke-linecap:butt;stroke-linejoin:miter;stroke:rgb(0%,0%,0%);stroke-opacity:1;stroke-miterlimit:10;\" d=\"M 369.734375 198.09375 C 375.429688 239.054688 344.515625 245.847656 316.835938 268.082031 \"/>\n<path style=\" stroke:none;fill-rule:nonzero;fill:rgb(0%,0%,0%);fill-opacity:1;\" d=\"M 327.960938 259.148438 L 319.738281 271.695312 L 313.933594 264.46875 L 327.960938 259.148438 \"/>\n<path style=\"fill:none;stroke-width:1;stroke-linecap:butt;stroke-linejoin:miter;stroke:rgb(0%,0%,0%);stroke-opacity:1;stroke-miterlimit:10;\" d=\"M 369.734375 198.09375 C 355.671875 223.242188 319.667969 214.980469 306.523438 226.132812 \"/>\n<path style=\" stroke:none;fill-rule:nonzero;fill:rgb(0%,0%,0%);fill-opacity:1;\" d=\"M 317.402344 216.902344 L 309.523438 229.664062 L 303.527344 222.597656 L 317.402344 216.902344 \"/>\n<path style=\"fill:none;stroke-width:1;stroke-linecap:butt;stroke-linejoin:miter;stroke:rgb(0%,0%,0%);stroke-opacity:1;stroke-miterlimit:10;\" d=\"M 226.414062 360.671875 C 226.46875 377.242188 243.054688 398.371094 250.378906 392.40625 \"/>\n<path style=\" stroke:none;fill-rule:nonzero;fill:rgb(0%,0%,0%);fill-opacity:1;\" d=\"M 239.316406 401.414062 L 247.449219 388.8125 L 253.304688 396 L 239.316406 401.414062 \"/>\n<path style=\"fill:none;stroke-width:1;stroke-linecap:butt;stroke-linejoin:miter;stroke:rgb(0%,0%,0%);stroke-opacity:1;stroke-miterlimit:10;\" d=\"M 227.960938 263.4375 C 218.132812 274.992188 225.417969 286.910156 225.730469 299.777344 \"/>\n<path style=\" stroke:none;fill-rule:nonzero;fill:rgb(0%,0%,0%);fill-opacity:1;\" d=\"M 226.082031 314.039062 L 221.097656 299.890625 L 230.367188 299.664062 L 226.082031 314.039062 \"/>\n<path style=\"fill:none;stroke-width:1;stroke-linecap:butt;stroke-linejoin:miter;stroke:rgb(0%,0%,0%);stroke-opacity:1;stroke-miterlimit:10;\" d=\"M 263.6875 422 C 265.824219 431.84375 275.398438 445.960938 280.625 443.066406 \"/>\n<path style=\" stroke:none;fill-rule:nonzero;fill:rgb(0%,0%,0%);fill-opacity:1;\" d=\"M 268.144531 449.980469 L 278.378906 439.011719 L 282.871094 447.121094 L 268.144531 449.980469 \"/>\n<path style=\"fill:none;stroke-width:1;stroke-linecap:butt;stroke-linejoin:miter;stroke:rgb(0%,0%,0%);stroke-opacity:1;stroke-miterlimit:10;\" d=\"M 263.6875 422 C 275.289062 423.222656 285.488281 436.976562 279.257812 441.230469 \"/>\n<path style=\" stroke:none;fill-rule:nonzero;fill:rgb(0%,0%,0%);fill-opacity:1;\" d=\"M 267.472656 449.269531 L 276.644531 437.398438 L 281.867188 445.058594 L 267.472656 449.269531 \"/>\n<path style=\"fill:none;stroke-width:1;stroke-linecap:butt;stroke-linejoin:miter;stroke:rgb(0%,0%,0%);stroke-opacity:1;stroke-miterlimit:10;\" d=\"M 270.007812 395.84375 C 277.816406 396.667969 286.402344 406.953125 283.816406 408.664062 \"/>\n<path style=\" stroke:none;fill-rule:nonzero;fill:rgb(0%,0%,0%);fill-opacity:1;\" d=\"M 271.925781 416.542969 L 281.257812 404.800781 L 286.378906 412.53125 L 271.925781 416.542969 \"/>\n<path style=\"fill:none;stroke-width:1;stroke-linecap:butt;stroke-linejoin:miter;stroke:rgb(0%,0%,0%);stroke-opacity:1;stroke-miterlimit:10;\" d=\"M 38.023438 513.644531 C 28.796875 488.3125 33.925781 465.851562 56.785156 451.726562 \"/>\n<path style=\" stroke:none;fill-rule:nonzero;fill:rgb(0%,0%,0%);fill-opacity:1;\" d=\"M 44.648438 459.226562 L 54.347656 447.78125 L 59.222656 455.667969 L 44.648438 459.226562 \"/>\n<path style=\"fill:none;stroke-width:1;stroke-linecap:butt;stroke-linejoin:miter;stroke:rgb(0%,0%,0%);stroke-opacity:1;stroke-miterlimit:10;\" d=\"M 430.09375 105.730469 C 406.269531 106.410156 393.429688 140.585938 385.335938 141.339844 \"/>\n<path style=\" stroke:none;fill-rule:nonzero;fill:rgb(0%,0%,0%);fill-opacity:1;\" d=\"M 399.539062 140.015625 L 385.765625 145.953125 L 384.90625 136.722656 L 399.539062 140.015625 \"/>\n<path style=\"fill:none;stroke-width:1;stroke-linecap:butt;stroke-linejoin:miter;stroke:rgb(0%,0%,0%);stroke-opacity:1;stroke-miterlimit:10;\" d=\"M 322.910156 287.871094 C 324.523438 282.035156 318.941406 272.941406 319.78125 271.933594 \"/>\n<path style=\" stroke:none;fill-rule:nonzero;fill:rgb(0%,0%,0%);fill-opacity:1;\" d=\"M 328.917969 260.972656 L 323.34375 274.898438 L 316.222656 268.964844 L 328.917969 260.972656 \"/>\n<path style=\"fill:none;stroke-width:1;stroke-linecap:butt;stroke-linejoin:miter;stroke:rgb(0%,0%,0%);stroke-opacity:1;stroke-miterlimit:10;\" d=\"M 322.910156 287.871094 C 313.09375 283.261719 307.371094 271.203125 315.097656 266.230469 \"/>\n<path style=\" stroke:none;fill-rule:nonzero;fill:rgb(0%,0%,0%);fill-opacity:1;\" d=\"M 327.089844 258.511719 L 317.605469 270.128906 L 312.585938 262.332031 L 327.089844 258.511719 \"/>\n<path style=\"fill:none;stroke-width:1;stroke-linecap:butt;stroke-linejoin:miter;stroke:rgb(0%,0%,0%);stroke-opacity:1;stroke-miterlimit:10;\" d=\"M 226.414062 360.671875 C 243.664062 354.34375 251.449219 323.664062 250.421875 323.675781 \"/>\n<path style=\" stroke:none;fill-rule:nonzero;fill:rgb(0%,0%,0%);fill-opacity:1;\" d=\"M 236.15625 323.84375 L 250.367188 319.039062 L 250.476562 328.308594 L 236.15625 323.84375 \"/>\n<path style=\"fill:none;stroke-width:1;stroke-linecap:butt;stroke-linejoin:miter;stroke:rgb(0%,0%,0%);stroke-opacity:1;stroke-miterlimit:10;\" d=\"M 259.023438 455.035156 C 242.191406 437.226562 233.925781 406.539062 252.351562 396.601562 \"/>\n<path style=\" stroke:none;fill-rule:nonzero;fill:rgb(0%,0%,0%);fill-opacity:1;\" d=\"M 239.796875 403.375 L 250.152344 392.523438 L 254.550781 400.683594 L 239.796875 403.375 \"/>\n<path style=\"fill:none;stroke-width:1;stroke-linecap:butt;stroke-linejoin:miter;stroke:rgb(0%,0%,0%);stroke-opacity:1;stroke-miterlimit:10;\" d=\"M 288.332031 365.542969 C 287.261719 340.128906 302.6875 329.050781 322.875 315.207031 \"/>\n<path style=\" stroke:none;fill-rule:nonzero;fill:rgb(0%,0%,0%);fill-opacity:1;\" d=\"M 311.109375 323.277344 L 320.253906 311.382812 L 325.496094 319.03125 L 311.109375 323.277344 \"/>\n<path style=\"fill:none;stroke-width:1;stroke-linecap:butt;stroke-linejoin:miter;stroke:rgb(0%,0%,0%);stroke-opacity:1;stroke-miterlimit:10;\" d=\"M 580 23.847656 C 560.332031 50.421875 518.660156 28.371094 510.636719 34.207031 \"/>\n<path style=\" stroke:none;fill-rule:nonzero;fill:rgb(0%,0%,0%);fill-opacity:1;\" d=\"M 522.171875 25.816406 L 513.363281 37.957031 L 507.910156 30.460938 L 522.171875 25.816406 \"/>\n<path style=\"fill:none;stroke-width:1;stroke-linecap:butt;stroke-linejoin:miter;stroke:rgb(0%,0%,0%);stroke-opacity:1;stroke-miterlimit:10;\" d=\"M 302.8125 328.96875 C 310.453125 335.40625 315.222656 347.664062 308.207031 352.328125 \"/>\n<path style=\" stroke:none;fill-rule:nonzero;fill:rgb(0%,0%,0%);fill-opacity:1;\" d=\"M 296.328125 360.226562 L 305.640625 348.464844 L 310.773438 356.1875 L 296.328125 360.226562 \"/>\n<path style=\"fill:none;stroke-width:1;stroke-linecap:butt;stroke-linejoin:miter;stroke:rgb(0%,0%,0%);stroke-opacity:1;stroke-miterlimit:10;\" d=\"M 369.734375 198.09375 C 336.96875 193.988281 303.382812 234.746094 314.429688 241.078125 \"/>\n<path style=\" stroke:none;fill-rule:nonzero;fill:rgb(0%,0%,0%);fill-opacity:1;\" d=\"M 326.804688 248.175781 L 312.125 245.101562 L 316.734375 237.058594 L 326.804688 248.175781 \"/>\n<path style=\"fill:none;stroke-width:1;stroke-linecap:butt;stroke-linejoin:miter;stroke:rgb(0%,0%,0%);stroke-opacity:1;stroke-miterlimit:10;\" d=\"M 259.023438 455.035156 C 251.820312 431.085938 264.273438 421.609375 284.140625 408.308594 \"/>\n<path style=\" stroke:none;fill-rule:nonzero;fill:rgb(0%,0%,0%);fill-opacity:1;\" d=\"M 272.285156 416.246094 L 281.5625 404.457031 L 286.71875 412.160156 L 272.285156 416.246094 \"/>\n<path style=\"fill:none;stroke-width:1;stroke-linecap:butt;stroke-linejoin:miter;stroke:rgb(0%,0%,0%);stroke-opacity:1;stroke-miterlimit:10;\" d=\"M 335.453125 253.128906 C 341.296875 280 323.851562 287.160156 303.914062 302.199219 \"/>\n<path style=\" stroke:none;fill-rule:nonzero;fill:rgb(0%,0%,0%);fill-opacity:1;\" d=\"M 315.304688 293.605469 L 306.707031 305.898438 L 301.125 298.496094 L 315.304688 293.605469 \"/>\n<path style=\"fill-rule:nonzero;fill:rgb(0%,0%,100%);fill-opacity:1;stroke-width:1;stroke-linecap:butt;stroke-linejoin:miter;stroke:rgb(0%,0%,0%);stroke-opacity:1;stroke-miterlimit:10;\" d=\"M 114.035156 245.558594 C 114.035156 251.078125 109.558594 255.558594 104.035156 255.558594 C 98.511719 255.558594 94.035156 251.078125 94.035156 245.558594 C 94.035156 240.035156 98.511719 235.558594 104.035156 235.558594 C 109.558594 235.558594 114.035156 240.035156 114.035156 245.558594 \"/>\n<path style=\"fill-rule:nonzero;fill:rgb(0%,0%,100%);fill-opacity:1;stroke-width:1;stroke-linecap:butt;stroke-linejoin:miter;stroke:rgb(0%,0%,0%);stroke-opacity:1;stroke-miterlimit:10;\" d=\"M 419.765625 139.0625 C 419.765625 144.585938 415.289062 149.0625 409.765625 149.0625 C 404.246094 149.0625 399.765625 144.585938 399.765625 139.0625 C 399.765625 133.539062 404.246094 129.0625 409.765625 129.0625 C 415.289062 129.0625 419.765625 133.539062 419.765625 139.0625 \"/>\n<path style=\"fill-rule:nonzero;fill:rgb(0%,0%,100%);fill-opacity:1;stroke-width:1;stroke-linecap:butt;stroke-linejoin:miter;stroke:rgb(0%,0%,0%);stroke-opacity:1;stroke-miterlimit:10;\" d=\"M 280.007812 395.84375 C 280.007812 401.367188 275.53125 405.84375 270.007812 405.84375 C 264.484375 405.84375 260.007812 401.367188 260.007812 395.84375 C 260.007812 390.324219 264.484375 385.84375 270.007812 385.84375 C 275.53125 385.84375 280.007812 390.324219 280.007812 395.84375 \"/>\n<path style=\"fill-rule:nonzero;fill:rgb(0%,0%,100%);fill-opacity:1;stroke-width:1;stroke-linecap:butt;stroke-linejoin:miter;stroke:rgb(0%,0%,0%);stroke-opacity:1;stroke-miterlimit:10;\" d=\"M 48.023438 513.644531 C 48.023438 519.167969 43.546875 523.644531 38.023438 523.644531 C 32.5 523.644531 28.023438 519.167969 28.023438 513.644531 C 28.023438 508.121094 32.5 503.644531 38.023438 503.644531 C 43.546875 503.644531 48.023438 508.121094 48.023438 513.644531 \"/>\n<path style=\"fill-rule:nonzero;fill:rgb(0%,0%,100%);fill-opacity:1;stroke-width:1;stroke-linecap:butt;stroke-linejoin:miter;stroke:rgb(0%,0%,0%);stroke-opacity:1;stroke-miterlimit:10;\" d=\"M 534.71875 165.71875 C 534.71875 171.242188 530.242188 175.71875 524.71875 175.71875 C 519.195312 175.71875 514.71875 171.242188 514.71875 165.71875 C 514.71875 160.195312 519.195312 155.71875 524.71875 155.71875 C 530.242188 155.71875 534.71875 160.195312 534.71875 165.71875 \"/>\n<path style=\"fill-rule:nonzero;fill:rgb(0%,0%,100%);fill-opacity:1;stroke-width:1;stroke-linecap:butt;stroke-linejoin:miter;stroke:rgb(0%,0%,0%);stroke-opacity:1;stroke-miterlimit:10;\" d=\"M 576.242188 99.804688 C 576.242188 105.328125 571.761719 109.804688 566.242188 109.804688 C 560.71875 109.804688 556.242188 105.328125 556.242188 99.804688 C 556.242188 94.28125 560.71875 89.804688 566.242188 89.804688 C 571.761719 89.804688 576.242188 94.28125 576.242188 99.804688 \"/>\n<path style=\"fill-rule:nonzero;fill:rgb(0%,0%,100%);fill-opacity:1;stroke-width:1;stroke-linecap:butt;stroke-linejoin:miter;stroke:rgb(0%,0%,0%);stroke-opacity:1;stroke-miterlimit:10;\" d=\"M 88.402344 544.746094 C 88.402344 550.269531 83.925781 554.746094 78.402344 554.746094 C 72.878906 554.746094 68.402344 550.269531 68.402344 544.746094 C 68.402344 539.226562 72.878906 534.746094 78.402344 534.746094 C 83.925781 534.746094 88.402344 539.226562 88.402344 544.746094 \"/>\n<path style=\"fill-rule:nonzero;fill:rgb(0%,0%,100%);fill-opacity:1;stroke-width:1;stroke-linecap:butt;stroke-linejoin:miter;stroke:rgb(0%,0%,0%);stroke-opacity:1;stroke-miterlimit:10;\" d=\"M 345.453125 253.128906 C 345.453125 258.652344 340.976562 263.128906 335.453125 263.128906 C 329.929688 263.128906 325.453125 258.652344 325.453125 253.128906 C 325.453125 247.605469 329.929688 243.128906 335.453125 243.128906 C 340.976562 243.128906 345.453125 247.605469 345.453125 253.128906 \"/>\n<path style=\"fill-rule:nonzero;fill:rgb(0%,0%,100%);fill-opacity:1;stroke-width:1;stroke-linecap:butt;stroke-linejoin:miter;stroke:rgb(0%,0%,0%);stroke-opacity:1;stroke-miterlimit:10;\" d=\"M 590 23.847656 C 590 29.371094 585.523438 33.847656 580 33.847656 C 574.476562 33.847656 570 29.371094 570 23.847656 C 570 18.324219 574.476562 13.847656 580 13.847656 C 585.523438 13.847656 590 18.324219 590 23.847656 \"/>\n<path style=\"fill-rule:nonzero;fill:rgb(0%,0%,100%);fill-opacity:1;stroke-width:1;stroke-linecap:butt;stroke-linejoin:miter;stroke:rgb(0%,0%,0%);stroke-opacity:1;stroke-miterlimit:10;\" d=\"M 400.683594 168.796875 C 400.683594 174.320312 396.203125 178.796875 390.683594 178.796875 C 385.160156 178.796875 380.683594 174.320312 380.683594 168.796875 C 380.683594 163.273438 385.160156 158.796875 390.683594 158.796875 C 396.203125 158.796875 400.683594 163.273438 400.683594 168.796875 \"/>\n<path style=\"fill-rule:nonzero;fill:rgb(0%,0%,100%);fill-opacity:1;stroke-width:1;stroke-linecap:butt;stroke-linejoin:miter;stroke:rgb(0%,0%,0%);stroke-opacity:1;stroke-miterlimit:10;\" d=\"M 236.324219 323.960938 C 236.324219 329.484375 231.84375 333.960938 226.324219 333.960938 C 220.800781 333.960938 216.324219 329.484375 216.324219 323.960938 C 216.324219 318.4375 220.800781 313.960938 226.324219 313.960938 C 231.84375 313.960938 236.324219 318.4375 236.324219 323.960938 \"/>\n<path style=\"fill-rule:nonzero;fill:rgb(0%,0%,100%);fill-opacity:1;stroke-width:1;stroke-linecap:butt;stroke-linejoin:miter;stroke:rgb(0%,0%,0%);stroke-opacity:1;stroke-miterlimit:10;\" d=\"M 33.253906 422.121094 C 33.253906 427.644531 28.777344 432.121094 23.253906 432.121094 C 17.734375 432.121094 13.253906 427.644531 13.253906 422.121094 C 13.253906 416.597656 17.734375 412.121094 23.253906 412.121094 C 28.777344 412.121094 33.253906 416.597656 33.253906 422.121094 \"/>\n<path style=\"fill-rule:nonzero;fill:rgb(0%,0%,100%);fill-opacity:1;stroke-width:1;stroke-linecap:butt;stroke-linejoin:miter;stroke:rgb(0%,0%,0%);stroke-opacity:1;stroke-miterlimit:10;\" d=\"M 487.53125 31.285156 C 487.53125 36.804688 483.054688 41.285156 477.53125 41.285156 C 472.007812 41.285156 467.53125 36.804688 467.53125 31.285156 C 467.53125 25.761719 472.007812 21.285156 477.53125 21.285156 C 483.054688 21.285156 487.53125 25.761719 487.53125 31.285156 \"/>\n<path style=\"fill-rule:nonzero;fill:rgb(0%,0%,100%);fill-opacity:1;stroke-width:1;stroke-linecap:butt;stroke-linejoin:miter;stroke:rgb(0%,0%,0%);stroke-opacity:1;stroke-miterlimit:10;\" d=\"M 334.0625 509.554688 C 334.0625 515.078125 329.585938 519.554688 324.0625 519.554688 C 318.539062 519.554688 314.0625 515.078125 314.0625 509.554688 C 314.0625 504.03125 318.539062 499.554688 324.0625 499.554688 C 329.585938 499.554688 334.0625 504.03125 334.0625 509.554688 \"/>\n<path style=\"fill-rule:nonzero;fill:rgb(0%,0%,100%);fill-opacity:1;stroke-width:1;stroke-linecap:butt;stroke-linejoin:miter;stroke:rgb(0%,0%,0%);stroke-opacity:1;stroke-miterlimit:10;\" d=\"M 46.097656 464.511719 C 46.097656 470.03125 41.621094 474.511719 36.097656 474.511719 C 30.574219 474.511719 26.097656 470.03125 26.097656 464.511719 C 26.097656 458.988281 30.574219 454.511719 36.097656 454.511719 C 41.621094 454.511719 46.097656 458.988281 46.097656 464.511719 \"/>\n<path style=\"fill-rule:nonzero;fill:rgb(0%,0%,100%);fill-opacity:1;stroke-width:1;stroke-linecap:butt;stroke-linejoin:miter;stroke:rgb(0%,0%,0%);stroke-opacity:1;stroke-miterlimit:10;\" d=\"M 30 385.726562 C 30 391.25 25.523438 395.726562 20 395.726562 C 14.476562 395.726562 10 391.25 10 385.726562 C 10 380.203125 14.476562 375.726562 20 375.726562 C 25.523438 375.726562 30 380.203125 30 385.726562 \"/>\n<path style=\"fill-rule:nonzero;fill:rgb(0%,0%,100%);fill-opacity:1;stroke-width:1;stroke-linecap:butt;stroke-linejoin:miter;stroke:rgb(0%,0%,0%);stroke-opacity:1;stroke-miterlimit:10;\" d=\"M 312.8125 328.96875 C 312.8125 334.488281 308.335938 338.96875 302.8125 338.96875 C 297.289062 338.96875 292.8125 334.488281 292.8125 328.96875 C 292.8125 323.445312 297.289062 318.96875 302.8125 318.96875 C 308.335938 318.96875 312.8125 323.445312 312.8125 328.96875 \"/>\n<path style=\"fill-rule:nonzero;fill:rgb(0%,0%,100%);fill-opacity:1;stroke-width:1;stroke-linecap:butt;stroke-linejoin:miter;stroke:rgb(0%,0%,0%);stroke-opacity:1;stroke-miterlimit:10;\" d=\"M 232.289062 239.953125 C 232.289062 245.476562 227.808594 249.953125 222.289062 249.953125 C 216.765625 249.953125 212.289062 245.476562 212.289062 239.953125 C 212.289062 234.433594 216.765625 229.953125 222.289062 229.953125 C 227.808594 229.953125 232.289062 234.433594 232.289062 239.953125 \"/>\n<path style=\"fill-rule:nonzero;fill:rgb(0%,0%,100%);fill-opacity:1;stroke-width:1;stroke-linecap:butt;stroke-linejoin:miter;stroke:rgb(0%,0%,0%);stroke-opacity:1;stroke-miterlimit:10;\" d=\"M 438.335938 184.066406 C 438.335938 189.585938 433.855469 194.066406 428.335938 194.066406 C 422.8125 194.066406 418.335938 189.585938 418.335938 184.066406 C 418.335938 178.542969 422.8125 174.066406 428.335938 174.066406 C 433.855469 174.066406 438.335938 178.542969 438.335938 184.066406 \"/>\n<path style=\"fill-rule:nonzero;fill:rgb(0%,0%,100%);fill-opacity:1;stroke-width:1;stroke-linecap:butt;stroke-linejoin:miter;stroke:rgb(0%,0%,0%);stroke-opacity:1;stroke-miterlimit:10;\" d=\"M 379.734375 198.09375 C 379.734375 203.617188 375.253906 208.09375 369.734375 208.09375 C 364.210938 208.09375 359.734375 203.617188 359.734375 198.09375 C 359.734375 192.570312 364.210938 188.09375 369.734375 188.09375 C 375.253906 188.09375 379.734375 192.570312 379.734375 198.09375 \"/>\n<path style=\"fill-rule:nonzero;fill:rgb(0%,0%,100%);fill-opacity:1;stroke-width:1;stroke-linecap:butt;stroke-linejoin:miter;stroke:rgb(0%,0%,0%);stroke-opacity:1;stroke-miterlimit:10;\" d=\"M 510.492188 194.726562 C 510.492188 200.25 506.015625 204.726562 500.492188 204.726562 C 494.96875 204.726562 490.492188 200.25 490.492188 194.726562 C 490.492188 189.203125 494.96875 184.726562 500.492188 184.726562 C 506.015625 184.726562 510.492188 189.203125 510.492188 194.726562 \"/>\n<path style=\"fill-rule:nonzero;fill:rgb(0%,0%,100%);fill-opacity:1;stroke-width:1;stroke-linecap:butt;stroke-linejoin:miter;stroke:rgb(0%,0%,0%);stroke-opacity:1;stroke-miterlimit:10;\" d=\"M 31.945312 289.488281 C 31.945312 295.011719 27.464844 299.488281 21.945312 299.488281 C 16.421875 299.488281 11.945312 295.011719 11.945312 289.488281 C 11.945312 283.964844 16.421875 279.488281 21.945312 279.488281 C 27.464844 279.488281 31.945312 283.964844 31.945312 289.488281 \"/>\n<path style=\"fill-rule:nonzero;fill:rgb(0%,0%,100%);fill-opacity:1;stroke-width:1;stroke-linecap:butt;stroke-linejoin:miter;stroke:rgb(0%,0%,0%);stroke-opacity:1;stroke-miterlimit:10;\" d=\"M 30.671875 319.839844 C 30.671875 325.363281 26.195312 329.839844 20.671875 329.839844 C 15.148438 329.839844 10.671875 325.363281 10.671875 319.839844 C 10.671875 314.316406 15.148438 309.839844 20.671875 309.839844 C 26.195312 309.839844 30.671875 314.316406 30.671875 319.839844 \"/>\n<path style=\"fill-rule:nonzero;fill:rgb(0%,0%,100%);fill-opacity:1;stroke-width:1;stroke-linecap:butt;stroke-linejoin:miter;stroke:rgb(0%,0%,0%);stroke-opacity:1;stroke-miterlimit:10;\" d=\"M 298.332031 365.542969 C 298.332031 371.066406 293.855469 375.542969 288.332031 375.542969 C 282.808594 375.542969 278.332031 371.066406 278.332031 365.542969 C 278.332031 360.019531 282.808594 355.542969 288.332031 355.542969 C 293.855469 355.542969 298.332031 360.019531 298.332031 365.542969 \"/>\n<path style=\"fill-rule:nonzero;fill:rgb(0%,0%,100%);fill-opacity:1;stroke-width:1;stroke-linecap:butt;stroke-linejoin:miter;stroke:rgb(0%,0%,0%);stroke-opacity:1;stroke-miterlimit:10;\" d=\"M 557.925781 128.890625 C 557.925781 134.414062 553.449219 138.890625 547.925781 138.890625 C 542.40625 138.890625 537.925781 134.414062 537.925781 128.890625 C 537.925781 123.367188 542.40625 118.890625 547.925781 118.890625 C 553.449219 118.890625 557.925781 123.367188 557.925781 128.890625 \"/>\n<path style=\"fill-rule:nonzero;fill:rgb(0%,0%,100%);fill-opacity:1;stroke-width:1;stroke-linecap:butt;stroke-linejoin:miter;stroke:rgb(0%,0%,0%);stroke-opacity:1;stroke-miterlimit:10;\" d=\"M 178.914062 248.8125 C 178.914062 254.335938 174.4375 258.8125 168.914062 258.8125 C 163.390625 258.8125 158.914062 254.335938 158.914062 248.8125 C 158.914062 243.289062 163.390625 238.8125 168.914062 238.8125 C 174.4375 238.8125 178.914062 243.289062 178.914062 248.8125 \"/>\n<path style=\"fill-rule:nonzero;fill:rgb(0%,0%,100%);fill-opacity:1;stroke-width:1;stroke-linecap:butt;stroke-linejoin:miter;stroke:rgb(0%,0%,0%);stroke-opacity:1;stroke-miterlimit:10;\" d=\"M 540.171875 20 C 540.171875 25.523438 535.695312 30 530.171875 30 C 524.648438 30 520.171875 25.523438 520.171875 20 C 520.171875 14.476562 524.648438 10 530.171875 10 C 535.695312 10 540.171875 14.476562 540.171875 20 \"/>\n<path style=\"fill-rule:nonzero;fill:rgb(0%,0%,100%);fill-opacity:1;stroke-width:1;stroke-linecap:butt;stroke-linejoin:miter;stroke:rgb(0%,0%,0%);stroke-opacity:1;stroke-miterlimit:10;\" d=\"M 269.023438 455.035156 C 269.023438 460.558594 264.546875 465.035156 259.023438 465.035156 C 253.5 465.035156 249.023438 460.558594 249.023438 455.035156 C 249.023438 449.511719 253.5 445.035156 259.023438 445.035156 C 264.546875 445.035156 269.023438 449.511719 269.023438 455.035156 \"/>\n<path style=\"fill-rule:nonzero;fill:rgb(0%,0%,100%);fill-opacity:1;stroke-width:1;stroke-linecap:butt;stroke-linejoin:miter;stroke:rgb(0%,0%,0%);stroke-opacity:1;stroke-miterlimit:10;\" d=\"M 335.015625 210.441406 C 335.015625 215.964844 330.539062 220.441406 325.015625 220.441406 C 319.496094 220.441406 315.015625 215.964844 315.015625 210.441406 C 315.015625 204.917969 319.496094 200.441406 325.015625 200.441406 C 330.539062 200.441406 335.015625 204.917969 335.015625 210.441406 \"/>\n<path style=\"fill-rule:nonzero;fill:rgb(0%,0%,100%);fill-opacity:1;stroke-width:1;stroke-linecap:butt;stroke-linejoin:miter;stroke:rgb(0%,0%,0%);stroke-opacity:1;stroke-miterlimit:10;\" d=\"M 472.625 202.105469 C 472.625 207.628906 468.148438 212.105469 462.625 212.105469 C 457.101562 212.105469 452.625 207.628906 452.625 202.105469 C 452.625 196.582031 457.101562 192.105469 462.625 192.105469 C 468.148438 192.105469 472.625 196.582031 472.625 202.105469 \"/>\n<path style=\"fill-rule:nonzero;fill:rgb(0%,0%,100%);fill-opacity:1;stroke-width:1;stroke-linecap:butt;stroke-linejoin:miter;stroke:rgb(0%,0%,0%);stroke-opacity:1;stroke-miterlimit:10;\" d=\"M 273.6875 422 C 273.6875 427.523438 269.210938 432 263.6875 432 C 258.167969 432 253.6875 427.523438 253.6875 422 C 253.6875 416.476562 258.167969 412 263.6875 412 C 269.210938 412 273.6875 416.476562 273.6875 422 \"/>\n<path style=\"fill-rule:nonzero;fill:rgb(0%,0%,100%);fill-opacity:1;stroke-width:1;stroke-linecap:butt;stroke-linejoin:miter;stroke:rgb(0%,0%,0%);stroke-opacity:1;stroke-miterlimit:10;\" d=\"M 458.027344 79.394531 C 458.027344 84.917969 453.550781 89.394531 448.027344 89.394531 C 442.507812 89.394531 438.027344 84.917969 438.027344 79.394531 C 438.027344 73.871094 442.507812 69.394531 448.027344 69.394531 C 453.550781 69.394531 458.027344 73.871094 458.027344 79.394531 \"/>\n<path style=\"fill-rule:nonzero;fill:rgb(0%,0%,100%);fill-opacity:1;stroke-width:1;stroke-linecap:butt;stroke-linejoin:miter;stroke:rgb(0%,0%,0%);stroke-opacity:1;stroke-miterlimit:10;\" d=\"M 386.5625 580 C 386.5625 585.523438 382.085938 590 376.5625 590 C 371.039062 590 366.5625 585.523438 366.5625 580 C 366.5625 574.476562 371.039062 570 376.5625 570 C 382.085938 570 386.5625 574.476562 386.5625 580 \"/>\n<path style=\"fill-rule:nonzero;fill:rgb(0%,0%,100%);fill-opacity:1;stroke-width:1;stroke-linecap:butt;stroke-linejoin:miter;stroke:rgb(0%,0%,0%);stroke-opacity:1;stroke-miterlimit:10;\" d=\"M 30.867188 346.75 C 30.867188 352.273438 26.390625 356.75 20.867188 356.75 C 15.34375 356.75 10.867188 352.273438 10.867188 346.75 C 10.867188 341.226562 15.34375 336.75 20.867188 336.75 C 26.390625 336.75 30.867188 341.226562 30.867188 346.75 \"/>\n<path style=\"fill-rule:nonzero;fill:rgb(0%,0%,100%);fill-opacity:1;stroke-width:1;stroke-linecap:butt;stroke-linejoin:miter;stroke:rgb(0%,0%,0%);stroke-opacity:1;stroke-miterlimit:10;\" d=\"M 241.269531 407.972656 C 241.269531 413.496094 236.789062 417.972656 231.269531 417.972656 C 225.746094 417.972656 221.269531 413.496094 221.269531 407.972656 C 221.269531 402.449219 225.746094 397.972656 231.269531 397.972656 C 236.789062 397.972656 241.269531 402.449219 241.269531 407.972656 \"/>\n<path style=\"fill-rule:nonzero;fill:rgb(0%,0%,100%);fill-opacity:1;stroke-width:1;stroke-linecap:butt;stroke-linejoin:miter;stroke:rgb(0%,0%,0%);stroke-opacity:1;stroke-miterlimit:10;\" d=\"M 237.960938 263.4375 C 237.960938 268.960938 233.484375 273.4375 227.960938 273.4375 C 222.4375 273.4375 217.960938 268.960938 217.960938 263.4375 C 217.960938 257.914062 222.4375 253.4375 227.960938 253.4375 C 233.484375 253.4375 237.960938 257.914062 237.960938 263.4375 \"/>\n<path style=\"fill-rule:nonzero;fill:rgb(0%,0%,100%);fill-opacity:1;stroke-width:1;stroke-linecap:butt;stroke-linejoin:miter;stroke:rgb(0%,0%,0%);stroke-opacity:1;stroke-miterlimit:10;\" d=\"M 440.09375 105.730469 C 440.09375 111.253906 435.617188 115.730469 430.09375 115.730469 C 424.570312 115.730469 420.09375 111.253906 420.09375 105.730469 C 420.09375 100.207031 424.570312 95.730469 430.09375 95.730469 C 435.617188 95.730469 440.09375 100.207031 440.09375 105.730469 \"/>\n<path style=\"fill-rule:nonzero;fill:rgb(0%,0%,100%);fill-opacity:1;stroke-width:1;stroke-linecap:butt;stroke-linejoin:miter;stroke:rgb(0%,0%,0%);stroke-opacity:1;stroke-miterlimit:10;\" d=\"M 332.910156 287.871094 C 332.910156 293.394531 328.433594 297.871094 322.910156 297.871094 C 317.386719 297.871094 312.910156 293.394531 312.910156 287.871094 C 312.910156 282.347656 317.386719 277.871094 322.910156 277.871094 C 328.433594 277.871094 332.910156 282.347656 332.910156 287.871094 \"/>\n<path style=\"fill-rule:nonzero;fill:rgb(0%,0%,100%);fill-opacity:1;stroke-width:1;stroke-linecap:butt;stroke-linejoin:miter;stroke:rgb(0%,0%,0%);stroke-opacity:1;stroke-miterlimit:10;\" d=\"M 236.414062 360.671875 C 236.414062 366.195312 231.9375 370.671875 226.414062 370.671875 C 220.890625 370.671875 216.414062 366.195312 216.414062 360.671875 C 216.414062 355.148438 220.890625 350.671875 226.414062 350.671875 C 231.9375 350.671875 236.414062 355.148438 236.414062 360.671875 \"/>\n</g>\n</svg>\n"
     },
     "execution_count": 12,
     "metadata": {
      "image/svg+xml": {
       "isolated": true
      }
     },
     "output_type": "execute_result"
    }
   ],
   "source": [
    "ig.plot(graph.subgraph_edges(graph.es.select(type='METRO')))"
   ],
   "metadata": {
    "collapsed": false,
    "pycharm": {
     "name": "#%%\n"
    }
   }
  },
  {
   "cell_type": "code",
   "execution_count": 13,
   "outputs": [
    {
     "data": {
      "text/plain": "['type',\n 'tt',\n 'weight',\n 'cost',\n 'name',\n 'uniqueagencyid',\n 'uniquerouteid',\n 'color',\n 'routetype',\n 'active']"
     },
     "execution_count": 13,
     "metadata": {},
     "output_type": "execute_result"
    }
   ],
   "source": [
    "graph.es.attributes()"
   ],
   "metadata": {
    "collapsed": false,
    "pycharm": {
     "name": "#%%\n"
    }
   }
  },
  {
   "cell_type": "code",
   "execution_count": 14,
   "outputs": [
    {
     "data": {
      "text/plain": "[10289.812,\n 3815.163,\n 3340.66428,\n 5138.42832,\n 307.46464,\n 3924.15776,\n 724.9286,\n 5697.0676,\n 5406.54192,\n 3876.52776,\n 3467.32544,\n 5965.37172,\n 3655.9922,\n 5734.652,\n 13311.52848,\n 4728.36,\n 9566.45952,\n 3751.1656,\n 4294.494,\n 10106.68764,\n 3616.20816,\n 3660.47808,\n 3708.59304,\n 3156.7432,\n 3503.47228,\n 3140.116,\n 3431.33448,\n 2162.0556,\n 4737.08928,\n 5859.84096,\n 5979.67804,\n 3817.63976,\n 739.80648,\n 6634.11424,\n 14130.522,\n 5298.04944,\n 4965.86916,\n 10313.03812,\n 4824.10496,\n 5294.10048,\n 3466.63264,\n 3466.63264,\n 9971.88608,\n 2820.80448,\n 3006.19776,\n 3899.7712,\n 3205.72416,\n 6647.86632,\n 2547.97984,\n 5234.537,\n 10166.64948,\n 4837.40672,\n 4016.54264,\n 225.8528,\n 6634.11424,\n 3176.28016,\n 6142.91904,\n 5966.307,\n 5243.99372,\n 3048.70104,\n 8359.11696,\n 3255.0342,\n 5587.18952,\n 3062.609,\n 11627.40096,\n 2460.92952,\n 3889.25796,\n 11037.0834,\n 3376.967,\n 4393.218,\n 5023.63136,\n 6753.55296,\n 8371.37952,\n 2553.3144,\n 3453.9544,\n 1531.98864,\n 5817.30304,\n 5156.64896,\n 8241.53148,\n 10349.6526,\n 1567.39072,\n 1776.72024,\n 2848.65504,\n 4719.14576,\n 3431.85408,\n 3480.8004,\n 3396.24416,\n 5905.98144,\n 8543.67888,\n 3706.8264,\n 700.43812,\n 3782.79192,\n 5771.85536,\n 1720.9152,\n 3408.21228]"
     },
     "execution_count": 14,
     "metadata": {},
     "output_type": "execute_result"
    }
   ],
   "source": [
    "graph.subgraph_edges(graph.es.select(type='METRO')).es['cost']"
   ],
   "metadata": {
    "collapsed": false,
    "pycharm": {
     "name": "#%%\n"
    }
   }
  },
  {
   "cell_type": "code",
   "execution_count": 36,
   "outputs": [],
   "source": [],
   "metadata": {
    "collapsed": false,
    "pycharm": {
     "name": "#%%\n"
    }
   }
  }
 ],
 "metadata": {
  "kernelspec": {
   "display_name": "Python 3",
   "language": "python",
   "name": "python3"
  },
  "language_info": {
   "codemirror_mode": {
    "name": "ipython",
    "version": 2
   },
   "file_extension": ".py",
   "mimetype": "text/x-python",
   "name": "python",
   "nbconvert_exporter": "python",
   "pygments_lexer": "ipython2",
   "version": "2.7.6"
  }
 },
 "nbformat": 4,
 "nbformat_minor": 0
}